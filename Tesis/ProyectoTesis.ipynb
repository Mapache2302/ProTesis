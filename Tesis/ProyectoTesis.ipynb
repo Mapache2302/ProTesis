{
 "cells": [
  {
   "cell_type": "code",
   "execution_count": 42,
   "metadata": {},
   "outputs": [],
   "source": [
    "import pandas as pd\n",
    "import numpy as np\n",
    "\n",
    "import matplotlib.pyplot as plt"
   ]
  },
  {
   "cell_type": "code",
   "execution_count": 78,
   "metadata": {},
   "outputs": [
    {
     "name": "stdout",
     "output_type": "stream",
     "text": [
      "Defaulting to user installation because normal site-packages is not writeable\n",
      "Requirement already satisfied: pandas in c:\\users\\renzo\\appdata\\roaming\\python\\python311\\site-packages (2.1.0)\n",
      "Requirement already satisfied: numpy>=1.23.2 in c:\\users\\renzo\\appdata\\roaming\\python\\python311\\site-packages (from pandas) (1.25.2)\n",
      "Requirement already satisfied: python-dateutil>=2.8.2 in c:\\users\\renzo\\appdata\\roaming\\python\\python311\\site-packages (from pandas) (2.8.2)\n",
      "Requirement already satisfied: pytz>=2020.1 in c:\\users\\renzo\\appdata\\roaming\\python\\python311\\site-packages (from pandas) (2023.3.post1)\n",
      "Requirement already satisfied: tzdata>=2022.1 in c:\\users\\renzo\\appdata\\roaming\\python\\python311\\site-packages (from pandas) (2023.3)\n",
      "Requirement already satisfied: six>=1.5 in c:\\users\\renzo\\appdata\\roaming\\python\\python311\\site-packages (from python-dateutil>=2.8.2->pandas) (1.16.0)\n",
      "Note: you may need to restart the kernel to use updated packages.\n",
      "Defaulting to user installation because normal site-packages is not writeable\n",
      "Requirement already satisfied: matplotlib in c:\\users\\renzo\\appdata\\roaming\\python\\python311\\site-packages (3.7.3)\n",
      "Requirement already satisfied: contourpy>=1.0.1 in c:\\users\\renzo\\appdata\\roaming\\python\\python311\\site-packages (from matplotlib) (1.1.0)\n",
      "Requirement already satisfied: cycler>=0.10 in c:\\users\\renzo\\appdata\\roaming\\python\\python311\\site-packages (from matplotlib) (0.11.0)\n",
      "Requirement already satisfied: fonttools>=4.22.0 in c:\\users\\renzo\\appdata\\roaming\\python\\python311\\site-packages (from matplotlib) (4.42.1)\n",
      "Requirement already satisfied: kiwisolver>=1.0.1 in c:\\users\\renzo\\appdata\\roaming\\python\\python311\\site-packages (from matplotlib) (1.4.5)\n",
      "Requirement already satisfied: numpy<2,>=1.20 in c:\\users\\renzo\\appdata\\roaming\\python\\python311\\site-packages (from matplotlib) (1.25.2)\n",
      "Requirement already satisfied: packaging>=20.0 in c:\\users\\renzo\\appdata\\roaming\\python\\python311\\site-packages (from matplotlib) (23.1)\n",
      "Requirement already satisfied: pillow>=6.2.0 in c:\\users\\renzo\\appdata\\roaming\\python\\python311\\site-packages (from matplotlib) (10.0.0)\n",
      "Requirement already satisfied: pyparsing>=2.3.1 in c:\\users\\renzo\\appdata\\roaming\\python\\python311\\site-packages (from matplotlib) (3.1.1)\n",
      "Requirement already satisfied: python-dateutil>=2.7 in c:\\users\\renzo\\appdata\\roaming\\python\\python311\\site-packages (from matplotlib) (2.8.2)\n",
      "Requirement already satisfied: six>=1.5 in c:\\users\\renzo\\appdata\\roaming\\python\\python311\\site-packages (from python-dateutil>=2.7->matplotlib) (1.16.0)\n",
      "Note: you may need to restart the kernel to use updated packages.\n",
      "Defaulting to user installation because normal site-packages is not writeable\n",
      "Collecting scikit-learn\n",
      "  Obtaining dependency information for scikit-learn from https://files.pythonhosted.org/packages/77/85/bff3a1e818ec6aa3dd466ff4f4b0a727db9fdb41f2e849747ad902ddbe95/scikit_learn-1.3.0-cp311-cp311-win_amd64.whl.metadata\n",
      "  Downloading scikit_learn-1.3.0-cp311-cp311-win_amd64.whl.metadata (11 kB)\n",
      "Collecting scipy\n",
      "  Obtaining dependency information for scipy from https://files.pythonhosted.org/packages/06/15/e73734f9170b66c6a84a0bd7e03586e87e77404e2eb8e34749fc49fa43f7/scipy-1.11.2-cp311-cp311-win_amd64.whl.metadata\n",
      "  Downloading scipy-1.11.2-cp311-cp311-win_amd64.whl.metadata (59 kB)\n",
      "     ---------------------------------------- 0.0/59.1 kB ? eta -:--:--\n",
      "     ---------------------------------------- 0.0/59.1 kB ? eta -:--:--\n",
      "     ------------------- ------------------ 30.7/59.1 kB 640.0 kB/s eta 0:00:01\n",
      "     -------------------------------------- 59.1/59.1 kB 775.6 kB/s eta 0:00:00\n",
      "Requirement already satisfied: matplotlib in c:\\users\\renzo\\appdata\\roaming\\python\\python311\\site-packages (3.7.3)\n",
      "Requirement already satisfied: numpy>=1.17.3 in c:\\users\\renzo\\appdata\\roaming\\python\\python311\\site-packages (from scikit-learn) (1.25.2)\n",
      "Collecting joblib>=1.1.1 (from scikit-learn)\n",
      "  Obtaining dependency information for joblib>=1.1.1 from https://files.pythonhosted.org/packages/10/40/d551139c85db202f1f384ba8bcf96aca2f329440a844f924c8a0040b6d02/joblib-1.3.2-py3-none-any.whl.metadata\n",
      "  Downloading joblib-1.3.2-py3-none-any.whl.metadata (5.4 kB)\n",
      "Collecting threadpoolctl>=2.0.0 (from scikit-learn)\n",
      "  Obtaining dependency information for threadpoolctl>=2.0.0 from https://files.pythonhosted.org/packages/81/12/fd4dea011af9d69e1cad05c75f3f7202cdcbeac9b712eea58ca779a72865/threadpoolctl-3.2.0-py3-none-any.whl.metadata\n",
      "  Downloading threadpoolctl-3.2.0-py3-none-any.whl.metadata (10.0 kB)\n",
      "Requirement already satisfied: contourpy>=1.0.1 in c:\\users\\renzo\\appdata\\roaming\\python\\python311\\site-packages (from matplotlib) (1.1.0)\n",
      "Requirement already satisfied: cycler>=0.10 in c:\\users\\renzo\\appdata\\roaming\\python\\python311\\site-packages (from matplotlib) (0.11.0)\n",
      "Requirement already satisfied: fonttools>=4.22.0 in c:\\users\\renzo\\appdata\\roaming\\python\\python311\\site-packages (from matplotlib) (4.42.1)\n",
      "Requirement already satisfied: kiwisolver>=1.0.1 in c:\\users\\renzo\\appdata\\roaming\\python\\python311\\site-packages (from matplotlib) (1.4.5)\n",
      "Requirement already satisfied: packaging>=20.0 in c:\\users\\renzo\\appdata\\roaming\\python\\python311\\site-packages (from matplotlib) (23.1)\n",
      "Requirement already satisfied: pillow>=6.2.0 in c:\\users\\renzo\\appdata\\roaming\\python\\python311\\site-packages (from matplotlib) (10.0.0)\n",
      "Requirement already satisfied: pyparsing>=2.3.1 in c:\\users\\renzo\\appdata\\roaming\\python\\python311\\site-packages (from matplotlib) (3.1.1)\n",
      "Requirement already satisfied: python-dateutil>=2.7 in c:\\users\\renzo\\appdata\\roaming\\python\\python311\\site-packages (from matplotlib) (2.8.2)\n",
      "Requirement already satisfied: six>=1.5 in c:\\users\\renzo\\appdata\\roaming\\python\\python311\\site-packages (from python-dateutil>=2.7->matplotlib) (1.16.0)\n",
      "Downloading scikit_learn-1.3.0-cp311-cp311-win_amd64.whl (9.2 MB)\n",
      "   ---------------------------------------- 0.0/9.2 MB ? eta -:--:--\n",
      "   ---------------------------------------- 0.1/9.2 MB 1.3 MB/s eta 0:00:07\n",
      "   - -------------------------------------- 0.4/9.2 MB 5.3 MB/s eta 0:00:02\n",
      "   ---- ----------------------------------- 0.9/9.2 MB 6.5 MB/s eta 0:00:02\n",
      "   ------ --------------------------------- 1.5/9.2 MB 7.8 MB/s eta 0:00:01\n",
      "   ------ --------------------------------- 1.5/9.2 MB 7.8 MB/s eta 0:00:01\n",
      "   ------- -------------------------------- 1.6/9.2 MB 5.8 MB/s eta 0:00:02\n",
      "   ------------ --------------------------- 2.9/9.2 MB 8.9 MB/s eta 0:00:01\n",
      "   -------------- ------------------------- 3.4/9.2 MB 9.1 MB/s eta 0:00:01\n",
      "   ---------------- ----------------------- 3.7/9.2 MB 8.7 MB/s eta 0:00:01\n",
      "   -------------------- ------------------- 4.6/9.2 MB 9.8 MB/s eta 0:00:01\n",
      "   ---------------------- ----------------- 5.1/9.2 MB 9.9 MB/s eta 0:00:01\n",
      "   ------------------------ --------------- 5.7/9.2 MB 10.0 MB/s eta 0:00:01\n",
      "   -------------------------- ------------- 6.1/9.2 MB 10.0 MB/s eta 0:00:01\n",
      "   ---------------------------- ----------- 6.5/9.2 MB 9.9 MB/s eta 0:00:01\n",
      "   ---------------------------- ----------- 6.5/9.2 MB 9.9 MB/s eta 0:00:01\n",
      "   ---------------------------- ----------- 6.6/9.2 MB 9.1 MB/s eta 0:00:01\n",
      "   ---------------------------- ----------- 6.6/9.2 MB 8.4 MB/s eta 0:00:01\n",
      "   ------------------------------- -------- 7.2/9.2 MB 8.6 MB/s eta 0:00:01\n",
      "   -------------------------------- ------- 7.6/9.2 MB 8.3 MB/s eta 0:00:01\n",
      "   ---------------------------------- ----- 7.9/9.2 MB 8.5 MB/s eta 0:00:01\n",
      "   ------------------------------------ --- 8.4/9.2 MB 8.5 MB/s eta 0:00:01\n",
      "   -------------------------------------- - 8.8/9.2 MB 8.4 MB/s eta 0:00:01\n",
      "   -------------------------------------- - 8.9/9.2 MB 8.3 MB/s eta 0:00:01\n",
      "   ---------------------------------------  9.0/9.2 MB 8.3 MB/s eta 0:00:01\n",
      "   ---------------------------------------  9.0/9.2 MB 8.3 MB/s eta 0:00:01\n",
      "   ---------------------------------------  9.2/9.2 MB 7.5 MB/s eta 0:00:01\n",
      "   ---------------------------------------- 9.2/9.2 MB 7.3 MB/s eta 0:00:00\n",
      "Downloading scipy-1.11.2-cp311-cp311-win_amd64.whl (44.0 MB)\n",
      "   ---------------------------------------- 0.0/44.0 MB ? eta -:--:--\n",
      "   ---------------------------------------- 0.2/44.0 MB 7.3 MB/s eta 0:00:07\n",
      "    --------------------------------------- 0.7/44.0 MB 8.7 MB/s eta 0:00:05\n",
      "    --------------------------------------- 0.8/44.0 MB 6.1 MB/s eta 0:00:08\n",
      "   - -------------------------------------- 1.2/44.0 MB 7.2 MB/s eta 0:00:06\n",
      "   - -------------------------------------- 1.6/44.0 MB 7.1 MB/s eta 0:00:06\n",
      "   - -------------------------------------- 1.9/44.0 MB 7.0 MB/s eta 0:00:06\n",
      "   - -------------------------------------- 2.2/44.0 MB 6.9 MB/s eta 0:00:07\n",
      "   -- ------------------------------------- 2.6/44.0 MB 7.1 MB/s eta 0:00:06\n",
      "   -- ------------------------------------- 2.9/44.0 MB 7.1 MB/s eta 0:00:06\n",
      "   -- ------------------------------------- 3.2/44.0 MB 7.0 MB/s eta 0:00:06\n",
      "   --- ------------------------------------ 3.5/44.0 MB 7.2 MB/s eta 0:00:06\n",
      "   --- ------------------------------------ 3.7/44.0 MB 7.0 MB/s eta 0:00:06\n",
      "   --- ------------------------------------ 4.1/44.0 MB 6.8 MB/s eta 0:00:06\n",
      "   --- ------------------------------------ 4.1/44.0 MB 6.7 MB/s eta 0:00:06\n",
      "   --- ------------------------------------ 4.1/44.0 MB 6.7 MB/s eta 0:00:06\n",
      "   --- ------------------------------------ 4.1/44.0 MB 6.7 MB/s eta 0:00:06\n",
      "   --- ------------------------------------ 4.1/44.0 MB 5.3 MB/s eta 0:00:08\n",
      "   --- ------------------------------------ 4.3/44.0 MB 5.1 MB/s eta 0:00:08\n",
      "   ---- ----------------------------------- 4.4/44.0 MB 5.1 MB/s eta 0:00:08\n",
      "   ---- ----------------------------------- 4.5/44.0 MB 4.8 MB/s eta 0:00:09\n",
      "   ---- ----------------------------------- 4.6/44.0 MB 4.8 MB/s eta 0:00:09\n",
      "   ---- ----------------------------------- 4.8/44.0 MB 4.7 MB/s eta 0:00:09\n",
      "   ---- ----------------------------------- 4.9/44.0 MB 4.6 MB/s eta 0:00:09\n",
      "   ---- ----------------------------------- 5.2/44.0 MB 4.7 MB/s eta 0:00:09\n",
      "   ----- ---------------------------------- 5.6/44.0 MB 4.8 MB/s eta 0:00:08\n",
      "   ----- ---------------------------------- 5.9/44.0 MB 4.9 MB/s eta 0:00:08\n",
      "   ----- ---------------------------------- 6.2/44.0 MB 5.0 MB/s eta 0:00:08\n",
      "   ----- ---------------------------------- 6.2/44.0 MB 5.0 MB/s eta 0:00:08\n",
      "   ----- ---------------------------------- 6.2/44.0 MB 5.0 MB/s eta 0:00:08\n",
      "   ----- ---------------------------------- 6.4/44.0 MB 4.6 MB/s eta 0:00:09\n",
      "   ------ --------------------------------- 6.6/44.0 MB 4.6 MB/s eta 0:00:09\n",
      "   ------ --------------------------------- 6.9/44.0 MB 4.7 MB/s eta 0:00:08\n",
      "   ------ --------------------------------- 7.3/44.0 MB 4.8 MB/s eta 0:00:08\n",
      "   ------ --------------------------------- 7.7/44.0 MB 4.9 MB/s eta 0:00:08\n",
      "   ------- -------------------------------- 7.9/44.0 MB 4.9 MB/s eta 0:00:08\n",
      "   ------- -------------------------------- 8.0/44.0 MB 4.8 MB/s eta 0:00:08\n",
      "   ------- -------------------------------- 8.2/44.0 MB 4.8 MB/s eta 0:00:08\n",
      "   ------- -------------------------------- 8.6/44.0 MB 4.9 MB/s eta 0:00:08\n",
      "   -------- ------------------------------- 8.8/44.0 MB 4.9 MB/s eta 0:00:08\n",
      "   -------- ------------------------------- 9.1/44.0 MB 4.9 MB/s eta 0:00:08\n",
      "   -------- ------------------------------- 9.4/44.0 MB 4.9 MB/s eta 0:00:07\n",
      "   -------- ------------------------------- 9.7/44.0 MB 5.0 MB/s eta 0:00:07\n",
      "   --------- ------------------------------ 10.2/44.0 MB 5.1 MB/s eta 0:00:07\n",
      "   --------- ------------------------------ 10.4/44.0 MB 5.1 MB/s eta 0:00:07\n",
      "   --------- ------------------------------ 10.7/44.0 MB 5.0 MB/s eta 0:00:07\n",
      "   --------- ------------------------------ 11.0/44.0 MB 5.0 MB/s eta 0:00:07\n",
      "   ---------- ----------------------------- 11.3/44.0 MB 5.0 MB/s eta 0:00:07\n",
      "   ---------- ----------------------------- 11.7/44.0 MB 5.0 MB/s eta 0:00:07\n",
      "   ---------- ----------------------------- 12.0/44.0 MB 5.0 MB/s eta 0:00:07\n",
      "   ----------- ---------------------------- 12.2/44.0 MB 5.0 MB/s eta 0:00:07\n",
      "   ----------- ---------------------------- 12.6/44.0 MB 5.0 MB/s eta 0:00:07\n",
      "   ----------- ---------------------------- 13.0/44.0 MB 5.0 MB/s eta 0:00:07\n",
      "   ------------ --------------------------- 13.4/44.0 MB 5.0 MB/s eta 0:00:07\n",
      "   ------------ --------------------------- 13.7/44.0 MB 5.0 MB/s eta 0:00:07\n",
      "   ------------ --------------------------- 14.1/44.0 MB 5.1 MB/s eta 0:00:06\n",
      "   ------------- -------------------------- 14.5/44.0 MB 5.7 MB/s eta 0:00:06\n",
      "   ------------- -------------------------- 14.9/44.0 MB 6.2 MB/s eta 0:00:05\n",
      "   ------------- -------------------------- 15.2/44.0 MB 6.3 MB/s eta 0:00:05\n",
      "   -------------- ------------------------- 15.7/44.0 MB 6.4 MB/s eta 0:00:05\n",
      "   -------------- ------------------------- 16.1/44.0 MB 6.4 MB/s eta 0:00:05\n",
      "   -------------- ------------------------- 16.5/44.0 MB 6.4 MB/s eta 0:00:05\n",
      "   --------------- ------------------------ 16.7/44.0 MB 6.9 MB/s eta 0:00:04\n",
      "   --------------- ------------------------ 17.1/44.0 MB 7.0 MB/s eta 0:00:04\n",
      "   --------------- ------------------------ 17.3/44.0 MB 7.0 MB/s eta 0:00:04\n",
      "   ---------------- ----------------------- 17.7/44.0 MB 7.0 MB/s eta 0:00:04\n",
      "   ---------------- ----------------------- 18.0/44.0 MB 6.9 MB/s eta 0:00:04\n",
      "   ---------------- ----------------------- 18.2/44.0 MB 7.0 MB/s eta 0:00:04\n",
      "   ---------------- ----------------------- 18.5/44.0 MB 7.1 MB/s eta 0:00:04\n",
      "   ----------------- ---------------------- 18.9/44.0 MB 7.1 MB/s eta 0:00:04\n",
      "   ----------------- ---------------------- 19.3/44.0 MB 7.4 MB/s eta 0:00:04\n",
      "   ----------------- ---------------------- 19.7/44.0 MB 7.4 MB/s eta 0:00:04\n",
      "   ------------------ --------------------- 20.0/44.0 MB 7.4 MB/s eta 0:00:04\n",
      "   ------------------ --------------------- 20.1/44.0 MB 7.4 MB/s eta 0:00:04\n",
      "   ------------------ --------------------- 20.3/44.0 MB 7.0 MB/s eta 0:00:04\n",
      "   ------------------ --------------------- 20.6/44.0 MB 7.0 MB/s eta 0:00:04\n",
      "   ------------------- -------------------- 21.1/44.0 MB 7.1 MB/s eta 0:00:04\n",
      "   ------------------- -------------------- 21.5/44.0 MB 7.2 MB/s eta 0:00:04\n",
      "   ------------------- -------------------- 21.7/44.0 MB 7.2 MB/s eta 0:00:04\n",
      "   ------------------- -------------------- 21.9/44.0 MB 7.0 MB/s eta 0:00:04\n",
      "   -------------------- ------------------- 22.3/44.0 MB 7.1 MB/s eta 0:00:04\n",
      "   -------------------- ------------------- 22.7/44.0 MB 7.3 MB/s eta 0:00:03\n",
      "   --------------------- ------------------ 23.2/44.0 MB 7.2 MB/s eta 0:00:03\n",
      "   --------------------- ------------------ 23.7/44.0 MB 7.4 MB/s eta 0:00:03\n",
      "   ---------------------- ----------------- 24.2/44.0 MB 7.4 MB/s eta 0:00:03\n",
      "   ---------------------- ----------------- 24.6/44.0 MB 7.4 MB/s eta 0:00:03\n",
      "   ---------------------- ----------------- 25.2/44.0 MB 7.6 MB/s eta 0:00:03\n",
      "   ----------------------- ---------------- 25.5/44.0 MB 7.6 MB/s eta 0:00:03\n",
      "   ----------------------- ---------------- 25.8/44.0 MB 7.4 MB/s eta 0:00:03\n",
      "   ----------------------- ---------------- 26.2/44.0 MB 7.5 MB/s eta 0:00:03\n",
      "   ------------------------ --------------- 26.5/44.0 MB 7.5 MB/s eta 0:00:03\n",
      "   ------------------------ --------------- 26.8/44.0 MB 7.5 MB/s eta 0:00:03\n",
      "   ------------------------ --------------- 27.0/44.0 MB 7.4 MB/s eta 0:00:03\n",
      "   ------------------------ --------------- 27.0/44.0 MB 7.4 MB/s eta 0:00:03\n",
      "   ------------------------ --------------- 27.3/44.0 MB 7.0 MB/s eta 0:00:03\n",
      "   ------------------------- -------------- 27.6/44.0 MB 7.0 MB/s eta 0:00:03\n",
      "   ------------------------- -------------- 28.0/44.0 MB 7.1 MB/s eta 0:00:03\n",
      "   ------------------------- -------------- 28.5/44.0 MB 7.4 MB/s eta 0:00:03\n",
      "   -------------------------- ------------- 28.8/44.0 MB 7.4 MB/s eta 0:00:03\n",
      "   -------------------------- ------------- 28.8/44.0 MB 7.0 MB/s eta 0:00:03\n",
      "   -------------------------- ------------- 29.2/44.0 MB 7.0 MB/s eta 0:00:03\n",
      "   -------------------------- ------------- 29.7/44.0 MB 7.0 MB/s eta 0:00:03\n",
      "   --------------------------- ------------ 30.1/44.0 MB 7.0 MB/s eta 0:00:02\n",
      "   --------------------------- ------------ 30.4/44.0 MB 7.5 MB/s eta 0:00:02\n",
      "   ---------------------------- ----------- 30.9/44.0 MB 7.5 MB/s eta 0:00:02\n",
      "   ---------------------------- ----------- 31.3/44.0 MB 7.4 MB/s eta 0:00:02\n",
      "   ---------------------------- ----------- 31.8/44.0 MB 7.6 MB/s eta 0:00:02\n",
      "   ----------------------------- ---------- 32.3/44.0 MB 7.9 MB/s eta 0:00:02\n",
      "   ----------------------------- ---------- 32.8/44.0 MB 7.9 MB/s eta 0:00:02\n",
      "   ------------------------------ --------- 33.4/44.0 MB 8.0 MB/s eta 0:00:02\n",
      "   ------------------------------ --------- 33.9/44.0 MB 8.0 MB/s eta 0:00:02\n",
      "   ------------------------------ --------- 33.9/44.0 MB 8.0 MB/s eta 0:00:02\n",
      "   ------------------------------- -------- 34.2/44.0 MB 7.6 MB/s eta 0:00:02\n",
      "   ------------------------------- -------- 34.6/44.0 MB 7.5 MB/s eta 0:00:02\n",
      "   ------------------------------- -------- 35.1/44.0 MB 7.6 MB/s eta 0:00:02\n",
      "   -------------------------------- ------- 35.6/44.0 MB 7.6 MB/s eta 0:00:02\n",
      "   -------------------------------- ------- 35.8/44.0 MB 7.6 MB/s eta 0:00:02\n",
      "   --------------------------------- ------ 36.3/44.0 MB 7.7 MB/s eta 0:00:01\n",
      "   --------------------------------- ------ 36.7/44.0 MB 7.6 MB/s eta 0:00:01\n",
      "   --------------------------------- ------ 36.9/44.0 MB 7.7 MB/s eta 0:00:01\n",
      "   --------------------------------- ------ 37.3/44.0 MB 8.1 MB/s eta 0:00:01\n",
      "   ---------------------------------- ----- 37.7/44.0 MB 8.2 MB/s eta 0:00:01\n",
      "   ---------------------------------- ----- 38.2/44.0 MB 8.4 MB/s eta 0:00:01\n",
      "   ----------------------------------- ---- 38.6/44.0 MB 8.3 MB/s eta 0:00:01\n",
      "   ----------------------------------- ---- 39.0/44.0 MB 8.3 MB/s eta 0:00:01\n",
      "   ----------------------------------- ---- 39.5/44.0 MB 8.8 MB/s eta 0:00:01\n",
      "   ------------------------------------ --- 39.9/44.0 MB 8.7 MB/s eta 0:00:01\n",
      "   ------------------------------------ --- 40.3/44.0 MB 8.7 MB/s eta 0:00:01\n",
      "   ------------------------------------- -- 40.7/44.0 MB 8.7 MB/s eta 0:00:01\n",
      "   ------------------------------------- -- 41.2/44.0 MB 8.8 MB/s eta 0:00:01\n",
      "   ------------------------------------- -- 41.5/44.0 MB 8.8 MB/s eta 0:00:01\n",
      "   ------------------------------------- -- 41.6/44.0 MB 8.3 MB/s eta 0:00:01\n",
      "   -------------------------------------- - 41.8/44.0 MB 8.3 MB/s eta 0:00:01\n",
      "   -------------------------------------- - 42.3/44.0 MB 8.2 MB/s eta 0:00:01\n",
      "   -------------------------------------- - 42.8/44.0 MB 8.2 MB/s eta 0:00:01\n",
      "   ---------------------------------------  43.1/44.0 MB 8.2 MB/s eta 0:00:01\n",
      "   ---------------------------------------  43.1/44.0 MB 8.2 MB/s eta 0:00:01\n",
      "   ---------------------------------------  43.3/44.0 MB 7.6 MB/s eta 0:00:01\n",
      "   ---------------------------------------  43.6/44.0 MB 7.4 MB/s eta 0:00:01\n",
      "   ---------------------------------------  44.0/44.0 MB 7.5 MB/s eta 0:00:01\n",
      "   ---------------------------------------  44.0/44.0 MB 7.5 MB/s eta 0:00:01\n",
      "   ---------------------------------------  44.0/44.0 MB 7.5 MB/s eta 0:00:01\n",
      "   ---------------------------------------  44.0/44.0 MB 7.5 MB/s eta 0:00:01\n",
      "   ---------------------------------------- 44.0/44.0 MB 6.6 MB/s eta 0:00:00\n",
      "Downloading joblib-1.3.2-py3-none-any.whl (302 kB)\n",
      "   ---------------------------------------- 0.0/302.2 kB ? eta -:--:--\n",
      "   ---------------------------------------- 302.2/302.2 kB 9.4 MB/s eta 0:00:00\n",
      "Downloading threadpoolctl-3.2.0-py3-none-any.whl (15 kB)\n",
      "Installing collected packages: threadpoolctl, scipy, joblib, scikit-learn\n",
      "Successfully installed joblib-1.3.2 scikit-learn-1.3.0 scipy-1.11.2 threadpoolctl-3.2.0\n",
      "Note: you may need to restart the kernel to use updated packages.\n"
     ]
    }
   ],
   "source": [
    "#Instalación de librerias \n",
    "%pip install pandas\n",
    "%pip install matplotlib\n",
    "%pip install -U scikit-learn scipy matplotlib"
   ]
  },
  {
   "cell_type": "markdown",
   "metadata": {},
   "source": [
    "## PREPROCESAMIENTO"
   ]
  },
  {
   "cell_type": "code",
   "execution_count": 44,
   "metadata": {},
   "outputs": [],
   "source": [
    "train = pd.read_csv(\"dataset/train.csv\")\n",
    "test = pd.read_csv(\"dataset/test.csv\")\n",
    "\n",
    "# Se recomienda realizar copias del grupo de entrenamiento y de testeo\n",
    "\n",
    "train = train.copy()\n",
    "test = test.copy()\n",
    "\n"
   ]
  },
  {
   "cell_type": "code",
   "execution_count": 45,
   "metadata": {},
   "outputs": [
    {
     "data": {
      "text/html": [
       "<div>\n",
       "<style scoped>\n",
       "    .dataframe tbody tr th:only-of-type {\n",
       "        vertical-align: middle;\n",
       "    }\n",
       "\n",
       "    .dataframe tbody tr th {\n",
       "        vertical-align: top;\n",
       "    }\n",
       "\n",
       "    .dataframe thead th {\n",
       "        text-align: right;\n",
       "    }\n",
       "</style>\n",
       "<table border=\"1\" class=\"dataframe\">\n",
       "  <thead>\n",
       "    <tr style=\"text-align: right;\">\n",
       "      <th></th>\n",
       "      <th>Item_Identifier</th>\n",
       "      <th>Item_Weight</th>\n",
       "      <th>Item_Fat_Content</th>\n",
       "      <th>Item_Visibility</th>\n",
       "      <th>Item_Type</th>\n",
       "      <th>Item_MRP</th>\n",
       "      <th>Outlet_Identifier</th>\n",
       "      <th>Outlet_Establishment_Year</th>\n",
       "      <th>Outlet_Size</th>\n",
       "      <th>Outlet_Location_Type</th>\n",
       "      <th>Outlet_Type</th>\n",
       "      <th>Item_Outlet_Sales</th>\n",
       "    </tr>\n",
       "  </thead>\n",
       "  <tbody>\n",
       "    <tr>\n",
       "      <th>0</th>\n",
       "      <td>FDA15</td>\n",
       "      <td>9.30</td>\n",
       "      <td>Low Fat</td>\n",
       "      <td>0.016047</td>\n",
       "      <td>Dairy</td>\n",
       "      <td>249.8092</td>\n",
       "      <td>OUT049</td>\n",
       "      <td>1999</td>\n",
       "      <td>Medium</td>\n",
       "      <td>Tier 1</td>\n",
       "      <td>Supermarket Type1</td>\n",
       "      <td>3735.1380</td>\n",
       "    </tr>\n",
       "    <tr>\n",
       "      <th>1</th>\n",
       "      <td>DRC01</td>\n",
       "      <td>5.92</td>\n",
       "      <td>Regular</td>\n",
       "      <td>0.019278</td>\n",
       "      <td>Soft Drinks</td>\n",
       "      <td>48.2692</td>\n",
       "      <td>OUT018</td>\n",
       "      <td>2009</td>\n",
       "      <td>Medium</td>\n",
       "      <td>Tier 3</td>\n",
       "      <td>Supermarket Type2</td>\n",
       "      <td>443.4228</td>\n",
       "    </tr>\n",
       "    <tr>\n",
       "      <th>2</th>\n",
       "      <td>FDN15</td>\n",
       "      <td>17.50</td>\n",
       "      <td>Low Fat</td>\n",
       "      <td>0.016760</td>\n",
       "      <td>Meat</td>\n",
       "      <td>141.6180</td>\n",
       "      <td>OUT049</td>\n",
       "      <td>1999</td>\n",
       "      <td>Medium</td>\n",
       "      <td>Tier 1</td>\n",
       "      <td>Supermarket Type1</td>\n",
       "      <td>2097.2700</td>\n",
       "    </tr>\n",
       "    <tr>\n",
       "      <th>3</th>\n",
       "      <td>FDX07</td>\n",
       "      <td>19.20</td>\n",
       "      <td>Regular</td>\n",
       "      <td>0.000000</td>\n",
       "      <td>Fruits and Vegetables</td>\n",
       "      <td>182.0950</td>\n",
       "      <td>OUT010</td>\n",
       "      <td>1998</td>\n",
       "      <td>NaN</td>\n",
       "      <td>Tier 3</td>\n",
       "      <td>Grocery Store</td>\n",
       "      <td>732.3800</td>\n",
       "    </tr>\n",
       "    <tr>\n",
       "      <th>4</th>\n",
       "      <td>NCD19</td>\n",
       "      <td>8.93</td>\n",
       "      <td>Low Fat</td>\n",
       "      <td>0.000000</td>\n",
       "      <td>Household</td>\n",
       "      <td>53.8614</td>\n",
       "      <td>OUT013</td>\n",
       "      <td>1987</td>\n",
       "      <td>High</td>\n",
       "      <td>Tier 3</td>\n",
       "      <td>Supermarket Type1</td>\n",
       "      <td>994.7052</td>\n",
       "    </tr>\n",
       "  </tbody>\n",
       "</table>\n",
       "</div>"
      ],
      "text/plain": [
       "  Item_Identifier  Item_Weight Item_Fat_Content  Item_Visibility  \\\n",
       "0           FDA15         9.30          Low Fat         0.016047   \n",
       "1           DRC01         5.92          Regular         0.019278   \n",
       "2           FDN15        17.50          Low Fat         0.016760   \n",
       "3           FDX07        19.20          Regular         0.000000   \n",
       "4           NCD19         8.93          Low Fat         0.000000   \n",
       "\n",
       "               Item_Type  Item_MRP Outlet_Identifier  \\\n",
       "0                  Dairy  249.8092            OUT049   \n",
       "1            Soft Drinks   48.2692            OUT018   \n",
       "2                   Meat  141.6180            OUT049   \n",
       "3  Fruits and Vegetables  182.0950            OUT010   \n",
       "4              Household   53.8614            OUT013   \n",
       "\n",
       "   Outlet_Establishment_Year Outlet_Size Outlet_Location_Type  \\\n",
       "0                       1999      Medium               Tier 1   \n",
       "1                       2009      Medium               Tier 3   \n",
       "2                       1999      Medium               Tier 1   \n",
       "3                       1998         NaN               Tier 3   \n",
       "4                       1987        High               Tier 3   \n",
       "\n",
       "         Outlet_Type  Item_Outlet_Sales  \n",
       "0  Supermarket Type1          3735.1380  \n",
       "1  Supermarket Type2           443.4228  \n",
       "2  Supermarket Type1          2097.2700  \n",
       "3      Grocery Store           732.3800  \n",
       "4  Supermarket Type1           994.7052  "
      ]
     },
     "execution_count": 45,
     "metadata": {},
     "output_type": "execute_result"
    }
   ],
   "source": [
    "#Mostrar las 5 primeras filas de un DF\n",
    "train.head()\n",
    "\n"
   ]
  },
  {
   "cell_type": "code",
   "execution_count": 46,
   "metadata": {},
   "outputs": [
    {
     "data": {
      "text/html": [
       "<div>\n",
       "<style scoped>\n",
       "    .dataframe tbody tr th:only-of-type {\n",
       "        vertical-align: middle;\n",
       "    }\n",
       "\n",
       "    .dataframe tbody tr th {\n",
       "        vertical-align: top;\n",
       "    }\n",
       "\n",
       "    .dataframe thead th {\n",
       "        text-align: right;\n",
       "    }\n",
       "</style>\n",
       "<table border=\"1\" class=\"dataframe\">\n",
       "  <thead>\n",
       "    <tr style=\"text-align: right;\">\n",
       "      <th></th>\n",
       "      <th>Item_Weight</th>\n",
       "      <th>Item_Visibility</th>\n",
       "      <th>Item_MRP</th>\n",
       "      <th>Outlet_Establishment_Year</th>\n",
       "      <th>Item_Outlet_Sales</th>\n",
       "    </tr>\n",
       "  </thead>\n",
       "  <tbody>\n",
       "    <tr>\n",
       "      <th>count</th>\n",
       "      <td>7060.000000</td>\n",
       "      <td>8523.000000</td>\n",
       "      <td>8523.000000</td>\n",
       "      <td>8523.000000</td>\n",
       "      <td>8523.000000</td>\n",
       "    </tr>\n",
       "    <tr>\n",
       "      <th>mean</th>\n",
       "      <td>12.857645</td>\n",
       "      <td>0.066132</td>\n",
       "      <td>140.992782</td>\n",
       "      <td>1997.831867</td>\n",
       "      <td>2181.288914</td>\n",
       "    </tr>\n",
       "    <tr>\n",
       "      <th>std</th>\n",
       "      <td>4.643456</td>\n",
       "      <td>0.051598</td>\n",
       "      <td>62.275067</td>\n",
       "      <td>8.371760</td>\n",
       "      <td>1706.499616</td>\n",
       "    </tr>\n",
       "    <tr>\n",
       "      <th>min</th>\n",
       "      <td>4.555000</td>\n",
       "      <td>0.000000</td>\n",
       "      <td>31.290000</td>\n",
       "      <td>1985.000000</td>\n",
       "      <td>33.290000</td>\n",
       "    </tr>\n",
       "    <tr>\n",
       "      <th>25%</th>\n",
       "      <td>8.773750</td>\n",
       "      <td>0.026989</td>\n",
       "      <td>93.826500</td>\n",
       "      <td>1987.000000</td>\n",
       "      <td>834.247400</td>\n",
       "    </tr>\n",
       "    <tr>\n",
       "      <th>50%</th>\n",
       "      <td>12.600000</td>\n",
       "      <td>0.053931</td>\n",
       "      <td>143.012800</td>\n",
       "      <td>1999.000000</td>\n",
       "      <td>1794.331000</td>\n",
       "    </tr>\n",
       "    <tr>\n",
       "      <th>75%</th>\n",
       "      <td>16.850000</td>\n",
       "      <td>0.094585</td>\n",
       "      <td>185.643700</td>\n",
       "      <td>2004.000000</td>\n",
       "      <td>3101.296400</td>\n",
       "    </tr>\n",
       "    <tr>\n",
       "      <th>max</th>\n",
       "      <td>21.350000</td>\n",
       "      <td>0.328391</td>\n",
       "      <td>266.888400</td>\n",
       "      <td>2009.000000</td>\n",
       "      <td>13086.964800</td>\n",
       "    </tr>\n",
       "  </tbody>\n",
       "</table>\n",
       "</div>"
      ],
      "text/plain": [
       "       Item_Weight  Item_Visibility     Item_MRP  Outlet_Establishment_Year  \\\n",
       "count  7060.000000      8523.000000  8523.000000                8523.000000   \n",
       "mean     12.857645         0.066132   140.992782                1997.831867   \n",
       "std       4.643456         0.051598    62.275067                   8.371760   \n",
       "min       4.555000         0.000000    31.290000                1985.000000   \n",
       "25%       8.773750         0.026989    93.826500                1987.000000   \n",
       "50%      12.600000         0.053931   143.012800                1999.000000   \n",
       "75%      16.850000         0.094585   185.643700                2004.000000   \n",
       "max      21.350000         0.328391   266.888400                2009.000000   \n",
       "\n",
       "       Item_Outlet_Sales  \n",
       "count        8523.000000  \n",
       "mean         2181.288914  \n",
       "std          1706.499616  \n",
       "min            33.290000  \n",
       "25%           834.247400  \n",
       "50%          1794.331000  \n",
       "75%          3101.296400  \n",
       "max         13086.964800  "
      ]
     },
     "execution_count": 46,
     "metadata": {},
     "output_type": "execute_result"
    }
   ],
   "source": [
    "#Obtener un resumen estadístico de un DF\n",
    "train.describe()\n",
    "\n",
    "# Según la siguiente tabla:\n",
    "\n",
    "# - Conteo (count): El número de valores no nulos en cada columna.\n",
    " \n",
    "# - Media (mean): La media aritmética de los valores en cada columna.\n",
    "\n",
    "# - Desviación estándar (std): La desviación estándar que mide la dispersión de los valores en cada columna.\n",
    "\n",
    "# - Valor mínimo (min): El valor mínimo en cada columna.\n",
    "\n",
    "# - Percentiles 25, 50 (mediana), y 75 (percentil 75): Estos percentiles muestran la distribución de los datos en cada columna. El percentil 50 es la mediana, que es el valor que separa la mitad inferior y la mitad superior de los datos.\n"
   ]
  },
  {
   "cell_type": "markdown",
   "metadata": {},
   "source": [
    "\n",
    "Según la tabla anterior:\n",
    "\n",
    "- Conteo (count): El número de valores no nulos en cada columna.\n",
    "\n",
    "- Media (mean): La media aritmética de los valores en cada columna.\n",
    "\n",
    "- Desviación estándar (std): La desviación estándar que mide la dispersión de los valores en cada columna.\n",
    "\n",
    "- Valor mínimo (min): El valor mínimo en cada columna.\n",
    "\n",
    "- Percentiles 25, 50 (mediana), y 75 (percentil 75): Estos percentiles muestran la distribución de los datos en cada columna. El percentil 50 es la mediana, que es el valor que separa la mitad inferior y la mitad superior de los datos.\n"
   ]
  },
  {
   "cell_type": "code",
   "execution_count": 47,
   "metadata": {},
   "outputs": [
    {
     "data": {
      "text/html": [
       "<div>\n",
       "<style scoped>\n",
       "    .dataframe tbody tr th:only-of-type {\n",
       "        vertical-align: middle;\n",
       "    }\n",
       "\n",
       "    .dataframe tbody tr th {\n",
       "        vertical-align: top;\n",
       "    }\n",
       "\n",
       "    .dataframe thead th {\n",
       "        text-align: right;\n",
       "    }\n",
       "</style>\n",
       "<table border=\"1\" class=\"dataframe\">\n",
       "  <thead>\n",
       "    <tr style=\"text-align: right;\">\n",
       "      <th></th>\n",
       "      <th>Item_Identifier</th>\n",
       "      <th>Item_Weight</th>\n",
       "      <th>Item_Fat_Content</th>\n",
       "      <th>Item_Visibility</th>\n",
       "      <th>Item_Type</th>\n",
       "      <th>Item_MRP</th>\n",
       "      <th>Outlet_Identifier</th>\n",
       "      <th>Outlet_Establishment_Year</th>\n",
       "      <th>Outlet_Size</th>\n",
       "      <th>Outlet_Location_Type</th>\n",
       "      <th>Outlet_Type</th>\n",
       "    </tr>\n",
       "  </thead>\n",
       "  <tbody>\n",
       "    <tr>\n",
       "      <th>0</th>\n",
       "      <td>FDW58</td>\n",
       "      <td>20.750</td>\n",
       "      <td>Low Fat</td>\n",
       "      <td>0.007565</td>\n",
       "      <td>Snack Foods</td>\n",
       "      <td>107.8622</td>\n",
       "      <td>OUT049</td>\n",
       "      <td>1999</td>\n",
       "      <td>Medium</td>\n",
       "      <td>Tier 1</td>\n",
       "      <td>Supermarket Type1</td>\n",
       "    </tr>\n",
       "    <tr>\n",
       "      <th>1</th>\n",
       "      <td>FDW14</td>\n",
       "      <td>8.300</td>\n",
       "      <td>reg</td>\n",
       "      <td>0.038428</td>\n",
       "      <td>Dairy</td>\n",
       "      <td>87.3198</td>\n",
       "      <td>OUT017</td>\n",
       "      <td>2007</td>\n",
       "      <td>NaN</td>\n",
       "      <td>Tier 2</td>\n",
       "      <td>Supermarket Type1</td>\n",
       "    </tr>\n",
       "    <tr>\n",
       "      <th>2</th>\n",
       "      <td>NCN55</td>\n",
       "      <td>14.600</td>\n",
       "      <td>Low Fat</td>\n",
       "      <td>0.099575</td>\n",
       "      <td>Others</td>\n",
       "      <td>241.7538</td>\n",
       "      <td>OUT010</td>\n",
       "      <td>1998</td>\n",
       "      <td>NaN</td>\n",
       "      <td>Tier 3</td>\n",
       "      <td>Grocery Store</td>\n",
       "    </tr>\n",
       "    <tr>\n",
       "      <th>3</th>\n",
       "      <td>FDQ58</td>\n",
       "      <td>7.315</td>\n",
       "      <td>Low Fat</td>\n",
       "      <td>0.015388</td>\n",
       "      <td>Snack Foods</td>\n",
       "      <td>155.0340</td>\n",
       "      <td>OUT017</td>\n",
       "      <td>2007</td>\n",
       "      <td>NaN</td>\n",
       "      <td>Tier 2</td>\n",
       "      <td>Supermarket Type1</td>\n",
       "    </tr>\n",
       "    <tr>\n",
       "      <th>4</th>\n",
       "      <td>FDY38</td>\n",
       "      <td>NaN</td>\n",
       "      <td>Regular</td>\n",
       "      <td>0.118599</td>\n",
       "      <td>Dairy</td>\n",
       "      <td>234.2300</td>\n",
       "      <td>OUT027</td>\n",
       "      <td>1985</td>\n",
       "      <td>Medium</td>\n",
       "      <td>Tier 3</td>\n",
       "      <td>Supermarket Type3</td>\n",
       "    </tr>\n",
       "  </tbody>\n",
       "</table>\n",
       "</div>"
      ],
      "text/plain": [
       "  Item_Identifier  Item_Weight Item_Fat_Content  Item_Visibility    Item_Type  \\\n",
       "0           FDW58       20.750          Low Fat         0.007565  Snack Foods   \n",
       "1           FDW14        8.300              reg         0.038428        Dairy   \n",
       "2           NCN55       14.600          Low Fat         0.099575       Others   \n",
       "3           FDQ58        7.315          Low Fat         0.015388  Snack Foods   \n",
       "4           FDY38          NaN          Regular         0.118599        Dairy   \n",
       "\n",
       "   Item_MRP Outlet_Identifier  Outlet_Establishment_Year Outlet_Size  \\\n",
       "0  107.8622            OUT049                       1999      Medium   \n",
       "1   87.3198            OUT017                       2007         NaN   \n",
       "2  241.7538            OUT010                       1998         NaN   \n",
       "3  155.0340            OUT017                       2007         NaN   \n",
       "4  234.2300            OUT027                       1985      Medium   \n",
       "\n",
       "  Outlet_Location_Type        Outlet_Type  \n",
       "0               Tier 1  Supermarket Type1  \n",
       "1               Tier 2  Supermarket Type1  \n",
       "2               Tier 3      Grocery Store  \n",
       "3               Tier 2  Supermarket Type1  \n",
       "4               Tier 3  Supermarket Type3  "
      ]
     },
     "execution_count": 47,
     "metadata": {},
     "output_type": "execute_result"
    }
   ],
   "source": [
    "test.head()"
   ]
  },
  {
   "cell_type": "code",
   "execution_count": 48,
   "metadata": {},
   "outputs": [
    {
     "data": {
      "text/html": [
       "<div>\n",
       "<style scoped>\n",
       "    .dataframe tbody tr th:only-of-type {\n",
       "        vertical-align: middle;\n",
       "    }\n",
       "\n",
       "    .dataframe tbody tr th {\n",
       "        vertical-align: top;\n",
       "    }\n",
       "\n",
       "    .dataframe thead th {\n",
       "        text-align: right;\n",
       "    }\n",
       "</style>\n",
       "<table border=\"1\" class=\"dataframe\">\n",
       "  <thead>\n",
       "    <tr style=\"text-align: right;\">\n",
       "      <th></th>\n",
       "      <th>Item_Weight</th>\n",
       "      <th>Item_Visibility</th>\n",
       "      <th>Item_MRP</th>\n",
       "      <th>Outlet_Establishment_Year</th>\n",
       "    </tr>\n",
       "  </thead>\n",
       "  <tbody>\n",
       "    <tr>\n",
       "      <th>count</th>\n",
       "      <td>4705.000000</td>\n",
       "      <td>5681.000000</td>\n",
       "      <td>5681.000000</td>\n",
       "      <td>5681.000000</td>\n",
       "    </tr>\n",
       "    <tr>\n",
       "      <th>mean</th>\n",
       "      <td>12.695633</td>\n",
       "      <td>0.065684</td>\n",
       "      <td>141.023273</td>\n",
       "      <td>1997.828903</td>\n",
       "    </tr>\n",
       "    <tr>\n",
       "      <th>std</th>\n",
       "      <td>4.664849</td>\n",
       "      <td>0.051252</td>\n",
       "      <td>61.809091</td>\n",
       "      <td>8.372256</td>\n",
       "    </tr>\n",
       "    <tr>\n",
       "      <th>min</th>\n",
       "      <td>4.555000</td>\n",
       "      <td>0.000000</td>\n",
       "      <td>31.990000</td>\n",
       "      <td>1985.000000</td>\n",
       "    </tr>\n",
       "    <tr>\n",
       "      <th>25%</th>\n",
       "      <td>8.645000</td>\n",
       "      <td>0.027047</td>\n",
       "      <td>94.412000</td>\n",
       "      <td>1987.000000</td>\n",
       "    </tr>\n",
       "    <tr>\n",
       "      <th>50%</th>\n",
       "      <td>12.500000</td>\n",
       "      <td>0.054154</td>\n",
       "      <td>141.415400</td>\n",
       "      <td>1999.000000</td>\n",
       "    </tr>\n",
       "    <tr>\n",
       "      <th>75%</th>\n",
       "      <td>16.700000</td>\n",
       "      <td>0.093463</td>\n",
       "      <td>186.026600</td>\n",
       "      <td>2004.000000</td>\n",
       "    </tr>\n",
       "    <tr>\n",
       "      <th>max</th>\n",
       "      <td>21.350000</td>\n",
       "      <td>0.323637</td>\n",
       "      <td>266.588400</td>\n",
       "      <td>2009.000000</td>\n",
       "    </tr>\n",
       "  </tbody>\n",
       "</table>\n",
       "</div>"
      ],
      "text/plain": [
       "       Item_Weight  Item_Visibility     Item_MRP  Outlet_Establishment_Year\n",
       "count  4705.000000      5681.000000  5681.000000                5681.000000\n",
       "mean     12.695633         0.065684   141.023273                1997.828903\n",
       "std       4.664849         0.051252    61.809091                   8.372256\n",
       "min       4.555000         0.000000    31.990000                1985.000000\n",
       "25%       8.645000         0.027047    94.412000                1987.000000\n",
       "50%      12.500000         0.054154   141.415400                1999.000000\n",
       "75%      16.700000         0.093463   186.026600                2004.000000\n",
       "max      21.350000         0.323637   266.588400                2009.000000"
      ]
     },
     "execution_count": 48,
     "metadata": {},
     "output_type": "execute_result"
    }
   ],
   "source": [
    "test.describe()"
   ]
  },
  {
   "cell_type": "code",
   "execution_count": 49,
   "metadata": {},
   "outputs": [
    {
     "name": "stdout",
     "output_type": "stream",
     "text": [
      "Grupo de entrenamiento:  (8523, 12)\n",
      "Grupo de prueba:  (5681, 11)\n"
     ]
    }
   ],
   "source": [
    "# Verficar la forma del grupo de testeo y entrenamiento\n",
    "print(\"Grupo de entrenamiento: \", train.shape)\n",
    "print(\"Grupo de prueba: \",test.shape)\n"
   ]
  },
  {
   "cell_type": "code",
   "execution_count": 50,
   "metadata": {},
   "outputs": [
    {
     "name": "stdout",
     "output_type": "stream",
     "text": [
      "Grupo total:  (14204, 12)\n"
     ]
    }
   ],
   "source": [
    "# Combinamos ambos grupos en uno solo\n",
    "\n",
    "data = pd.concat([train, test])\n",
    "print(\"Grupo total: \", data.shape)"
   ]
  },
  {
   "cell_type": "markdown",
   "metadata": {},
   "source": [
    "## Visualización de los datos"
   ]
  },
  {
   "cell_type": "markdown",
   "metadata": {},
   "source": [
    "Dataset de entrenamiento"
   ]
  },
  {
   "cell_type": "code",
   "execution_count": 51,
   "metadata": {},
   "outputs": [
    {
     "data": {
      "image/png": "[encoded data removed]",
      "text/plain": [
       "<Figure size 640x480 with 1 Axes>"
      ]
     },
     "metadata": {},
     "output_type": "display_data"
    }
   ],
   "source": [
    "plt.hist(train['Item_Outlet_Sales'], bins = 20, color = 'blue')\n",
    "\n",
    "# Extraemos todos los valores de ventas de los productos del grupo de entrenamiento. Es decir, \n",
    "# los datos de la columnas 'Item_Outlet_Sales' \n",
    "# La cantidad de barras para este gráfico será de 20. \n",
    "# El color de las barras será azul. \n",
    "\n",
    "plt.title('Variable objetivo')\n",
    "plt.xlabel('Item Outlet Sales') # Cantidad de artículos vendidos\n",
    "plt.ylabel('Conteo')\n",
    "plt.show()"
   ]
  },
  {
   "cell_type": "code",
   "execution_count": 52,
   "metadata": {},
   "outputs": [
    {
     "name": "stdout",
     "output_type": "stream",
     "text": [
      "Index(['Item_Identifier', 'Item_Weight', 'Item_Fat_Content', 'Item_Visibility',\n",
      "       'Item_Type', 'Item_MRP', 'Outlet_Identifier',\n",
      "       'Outlet_Establishment_Year', 'Outlet_Size', 'Outlet_Location_Type',\n",
      "       'Outlet_Type', 'Item_Outlet_Sales'],\n",
      "      dtype='object')\n"
     ]
    }
   ],
   "source": [
    "#Veremos las columnas del dataset de entrenamiento\n",
    "print(train.columns)"
   ]
  },
  {
   "cell_type": "code",
   "execution_count": 12,
   "metadata": {},
   "outputs": [
    {
     "data": {
      "text/plain": [
       "Item_Identifier               object\n",
       "Item_Weight                  float64\n",
       "Item_Fat_Content              object\n",
       "Item_Visibility              float64\n",
       "Item_Type                     object\n",
       "Item_MRP                     float64\n",
       "Outlet_Identifier             object\n",
       "Outlet_Establishment_Year      int64\n",
       "Outlet_Size                   object\n",
       "Outlet_Location_Type          object\n",
       "Outlet_Type                   object\n",
       "Item_Outlet_Sales            float64\n",
       "dtype: object"
      ]
     },
     "execution_count": 12,
     "metadata": {},
     "output_type": "execute_result"
    }
   ],
   "source": [
    "train.dtypes"
   ]
  },
  {
   "cell_type": "code",
   "execution_count": 53,
   "metadata": {},
   "outputs": [
    {
     "data": {
      "text/plain": [
       "Item_Identifier\n",
       "FDW13    10\n",
       "FDG33    10\n",
       "NCY18     9\n",
       "FDD38     9\n",
       "DRE49     9\n",
       "         ..\n",
       "FDY43     1\n",
       "FDQ60     1\n",
       "FDO33     1\n",
       "DRF48     1\n",
       "FDC23     1\n",
       "Name: count, Length: 1559, dtype: int64"
      ]
     },
     "execution_count": 53,
     "metadata": {},
     "output_type": "execute_result"
    }
   ],
   "source": [
    "#Ver los elementos en la columnas \"Item_Identifier\"\n",
    "train['Item_Identifier'].value_counts()"
   ]
  },
  {
   "cell_type": "code",
   "execution_count": 54,
   "metadata": {},
   "outputs": [
    {
     "data": {
      "image/png": "[encoded data removed]",
      "text/plain": [
       "<Figure size 640x480 with 1 Axes>"
      ]
     },
     "metadata": {},
     "output_type": "display_data"
    }
   ],
   "source": [
    "train['Item_Identifier'].value_counts(normalize = True)\n",
    "train['Item_Identifier'].value_counts().plot.hist()\n",
    "plt.title('Diferentes tipos de artículos disponibles en la tienda')\n",
    "plt.xlabel('Identificador de los items')\n",
    "plt.ylabel('Number of Items')\n",
    "plt.legend()\n",
    "plt.show()"
   ]
  },
  {
   "cell_type": "code",
   "execution_count": 55,
   "metadata": {},
   "outputs": [
    {
     "data": {
      "text/plain": [
       "Item_Fat_Content\n",
       "Low Fat    5089\n",
       "Regular    2889\n",
       "LF          316\n",
       "reg         117\n",
       "low fat     112\n",
       "Name: count, dtype: int64"
      ]
     },
     "execution_count": 55,
     "metadata": {},
     "output_type": "execute_result"
    }
   ],
   "source": [
    "#Items en la columna 'Item_Fat_Content' \n",
    "train['Item_Fat_Content'].value_counts()"
   ]
  },
  {
   "cell_type": "code",
   "execution_count": 56,
   "metadata": {},
   "outputs": [
    {
     "data": {
      "image/png": "[encoded data removed]",
      "text/plain": [
       "<Figure size 640x480 with 1 Axes>"
      ]
     },
     "metadata": {},
     "output_type": "display_data"
    }
   ],
   "source": [
    "train['Item_Fat_Content'].value_counts(normalize = True)\n",
    "train['Item_Fat_Content'].value_counts().plot.bar()\n",
    "plt.title('Diferentes variedades de grasas en la tienda')\n",
    "plt.xlabel('Grasa')\n",
    "plt.ylabel('Número de items')\n",
    "plt.show()"
   ]
  },
  {
   "cell_type": "code",
   "execution_count": 57,
   "metadata": {},
   "outputs": [
    {
     "data": {
      "text/plain": [
       "Item_Type\n",
       "Fruits and Vegetables    1232\n",
       "Snack Foods              1200\n",
       "Household                 910\n",
       "Frozen Foods              856\n",
       "Dairy                     682\n",
       "Canned                    649\n",
       "Baking Goods              648\n",
       "Health and Hygiene        520\n",
       "Soft Drinks               445\n",
       "Meat                      425\n",
       "Breads                    251\n",
       "Hard Drinks               214\n",
       "Others                    169\n",
       "Starchy Foods             148\n",
       "Breakfast                 110\n",
       "Seafood                    64\n",
       "Name: count, dtype: int64"
      ]
     },
     "execution_count": 57,
     "metadata": {},
     "output_type": "execute_result"
    }
   ],
   "source": [
    "#Items en la columna 'Item_Type'\n",
    "train['Item_Type'].value_counts()\n"
   ]
  },
  {
   "cell_type": "code",
   "execution_count": 58,
   "metadata": {},
   "outputs": [
    {
     "data": {
      "image/png": "[encoded data removed]",
      "text/plain": [
       "<Figure size 640x480 with 1 Axes>"
      ]
     },
     "metadata": {},
     "output_type": "display_data"
    }
   ],
   "source": [
    "# Ánalizando los elementos en el dataset de entrenamiento de la columna 'Item_Type'\n",
    "\n",
    "train['Item_Type'].value_counts(normalize = True)\n",
    "train['Item_Type'].value_counts().plot.bar()\n",
    "plt.title('Diferentes tipos de artículos disponibles en la tienda')\n",
    "plt.xlabel('Artículos')\n",
    "plt.ylabel('Número de artículos')\n",
    "plt.show()"
   ]
  },
  {
   "cell_type": "code",
   "execution_count": 59,
   "metadata": {},
   "outputs": [
    {
     "data": {
      "text/plain": [
       "Outlet_Identifier\n",
       "OUT027    935\n",
       "OUT013    932\n",
       "OUT049    930\n",
       "OUT046    930\n",
       "OUT035    930\n",
       "OUT045    929\n",
       "OUT018    928\n",
       "OUT017    926\n",
       "OUT010    555\n",
       "OUT019    528\n",
       "Name: count, dtype: int64"
      ]
     },
     "execution_count": 59,
     "metadata": {},
     "output_type": "execute_result"
    }
   ],
   "source": [
    "# Items en la columna 'Outlet_Identifier'\n",
    "\n",
    "train['Outlet_Identifier'].value_counts()"
   ]
  },
  {
   "cell_type": "code",
   "execution_count": 60,
   "metadata": {},
   "outputs": [
    {
     "data": {
      "image/png": "[encoded data removed]",
      "text/plain": [
       "<Figure size 640x480 with 1 Axes>"
      ]
     },
     "metadata": {},
     "output_type": "display_data"
    }
   ],
   "source": [
    "# Ánalizando los elementos en el dataset de entrenamiento de la columna 'Outlet_Identifier'\n",
    "\n",
    "train['Outlet_Identifier'].value_counts(normalize = True)\n",
    "train['Outlet_Identifier'].value_counts().plot.bar()\n",
    "plt.title('Diferentes tipos de identificador de outlet en la tienda')\n",
    "plt.xlabel('Artículo')\n",
    "plt.ylabel('Número de artículos')\n",
    "plt.show()"
   ]
  },
  {
   "cell_type": "code",
   "execution_count": 61,
   "metadata": {},
   "outputs": [
    {
     "data": {
      "text/plain": [
       "Outlet_Size\n",
       "Medium    2793\n",
       "Small     2388\n",
       "High       932\n",
       "Name: count, dtype: int64"
      ]
     },
     "execution_count": 61,
     "metadata": {},
     "output_type": "execute_result"
    }
   ],
   "source": [
    "# Items en la columna 'Outlet_Size'\n",
    "\n",
    "train['Outlet_Size'].value_counts()\n"
   ]
  },
  {
   "cell_type": "code",
   "execution_count": 62,
   "metadata": {},
   "outputs": [
    {
     "data": {
      "image/png": "[encoded data removed]",
      "text/plain": [
       "<Figure size 640x480 with 1 Axes>"
      ]
     },
     "metadata": {},
     "output_type": "display_data"
    }
   ],
   "source": [
    "# Ánalizando los elementos en el dataset de entrenamiento de la columna 'Outlet_Size'\n",
    "\n",
    "train['Outlet_Size'].value_counts(normalize = True)\n",
    "train['Outlet_Size'].value_counts().plot.bar()\n",
    "plt.title('Diferentes tipos de tamaños de outlet en la tienda')\n",
    "plt.xlabel('Item')\n",
    "plt.ylabel('Número de Items')\n",
    "plt.show()\n",
    "     \n"
   ]
  },
  {
   "cell_type": "code",
   "execution_count": 63,
   "metadata": {},
   "outputs": [
    {
     "data": {
      "text/plain": [
       "Outlet_Location_Type\n",
       "Tier 3    3350\n",
       "Tier 2    2785\n",
       "Tier 1    2388\n",
       "Name: count, dtype: int64"
      ]
     },
     "execution_count": 63,
     "metadata": {},
     "output_type": "execute_result"
    }
   ],
   "source": [
    "# Items en la columna 'Outlet_Location_Type'\n",
    "\n",
    "train['Outlet_Location_Type'].value_counts()"
   ]
  },
  {
   "cell_type": "code",
   "execution_count": 64,
   "metadata": {},
   "outputs": [
    {
     "data": {
      "image/png": "[encoded data removed]",
      "text/plain": [
       "<Figure size 640x480 with 1 Axes>"
      ]
     },
     "metadata": {},
     "output_type": "display_data"
    }
   ],
   "source": [
    "# Ánalizando los elementos en el dataset de entrenamiento de la columna 'Outlet_Location_Type'\n",
    "\n",
    "train['Outlet_Location_Type'].value_counts(normalize = True)\n",
    "train['Outlet_Location_Type'].value_counts().plot.bar()\n",
    "plt.title('Diferentes tipos de ubicación de outlet en la tienda')\n",
    "plt.xlabel('Item')\n",
    "plt.ylabel('Número de Items')\n",
    "plt.show()"
   ]
  },
  {
   "cell_type": "code",
   "execution_count": 65,
   "metadata": {},
   "outputs": [
    {
     "data": {
      "text/plain": [
       "Outlet_Type\n",
       "Supermarket Type1    5577\n",
       "Grocery Store        1083\n",
       "Supermarket Type3     935\n",
       "Supermarket Type2     928\n",
       "Name: count, dtype: int64"
      ]
     },
     "execution_count": 65,
     "metadata": {},
     "output_type": "execute_result"
    }
   ],
   "source": [
    "# Items en la columna 'Outlet_Type'\n",
    "\n",
    "train['Outlet_Type'].value_counts()"
   ]
  },
  {
   "cell_type": "code",
   "execution_count": 66,
   "metadata": {},
   "outputs": [
    {
     "data": {
      "image/png": "[encoded data removed]",
      "text/plain": [
       "<Figure size 640x480 with 1 Axes>"
      ]
     },
     "metadata": {},
     "output_type": "display_data"
    }
   ],
   "source": [
    "# Ánalizando los elementos en el dataset de entrenamiento de la columna 'Outlet_Type'\n",
    "\n",
    "train['Outlet_Type'].value_counts(normalize = True)\n",
    "train['Outlet_Type'].value_counts().plot.bar()\n",
    "plt.title('Diferentes tipos de outlet en la tienda')\n",
    "plt.xlabel('Item')\n",
    "plt.ylabel('Número de Items')\n",
    "plt.show()"
   ]
  },
  {
   "cell_type": "code",
   "execution_count": 67,
   "metadata": {},
   "outputs": [
    {
     "data": {
      "text/plain": [
       "<Axes: xlabel='Item_Fat_Content'>"
      ]
     },
     "execution_count": 67,
     "metadata": {},
     "output_type": "execute_result"
    },
    {
     "data": {
      "image/png": "[encoded data removed]",
      "text/plain": [
       "<Figure size 1100x1100 with 1 Axes>"
      ]
     },
     "metadata": {},
     "output_type": "display_data"
    }
   ],
   "source": [
    "# Contenido de grasa vs Identificador de un outlet\n",
    "\n",
    "Item_Fat_Content = pd.crosstab(train['Item_Fat_Content'],train['Outlet_Identifier'])\n",
    "Item_Fat_Content.div(Item_Fat_Content.sum(1).astype(float), axis=0).plot(kind=\"bar\", stacked=True, figsize=(11, 11))"
   ]
  },
  {
   "cell_type": "code",
   "execution_count": 68,
   "metadata": {},
   "outputs": [
    {
     "data": {
      "text/plain": [
       "<Axes: xlabel='Item_Type'>"
      ]
     },
     "execution_count": 68,
     "metadata": {},
     "output_type": "execute_result"
    },
    {
     "data": {
      "image/png": "[encoded data removed]",
      "text/plain": [
       "<Figure size 1300x1300 with 1 Axes>"
      ]
     },
     "metadata": {},
     "output_type": "display_data"
    }
   ],
   "source": [
    "# Contenido de grasa vs Tipo de Item\n",
    "\n",
    "Item_Type = pd.crosstab(train['Item_Type'], train['Item_Fat_Content'])\n",
    "Item_Type.div(Item_Type.sum(1).astype(float), axis=0).plot(kind=\"bar\", stacked=True, figsize=(13, 13))\n"
   ]
  },
  {
   "cell_type": "markdown",
   "metadata": {},
   "source": [
    "PREPROCESAMIENTO"
   ]
  },
  {
   "cell_type": "code",
   "execution_count": 69,
   "metadata": {},
   "outputs": [
    {
     "data": {
      "text/plain": [
       "Item_Identifier               1559\n",
       "Item_Weight                    416\n",
       "Item_Fat_Content                 5\n",
       "Item_Visibility              13006\n",
       "Item_Type                       16\n",
       "Item_MRP                      8052\n",
       "Outlet_Identifier               10\n",
       "Outlet_Establishment_Year        9\n",
       "Outlet_Size                      4\n",
       "Outlet_Location_Type             3\n",
       "Outlet_Type                      4\n",
       "Item_Outlet_Sales             3494\n",
       "dtype: int64"
      ]
     },
     "execution_count": 69,
     "metadata": {},
     "output_type": "execute_result"
    }
   ],
   "source": [
    "# Verificando los valores únicos en las columnas del conjunto de datos de entrenamiento\n",
    "\n",
    "data.apply(lambda x: len(x.unique()))"
   ]
  },
  {
   "cell_type": "code",
   "execution_count": 70,
   "metadata": {},
   "outputs": [
    {
     "data": {
      "text/plain": [
       "Item_Identifier                 0\n",
       "Item_Weight                  2439\n",
       "Item_Fat_Content                0\n",
       "Item_Visibility                 0\n",
       "Item_Type                       0\n",
       "Item_MRP                        0\n",
       "Outlet_Identifier               0\n",
       "Outlet_Establishment_Year       0\n",
       "Outlet_Size                  4016\n",
       "Outlet_Location_Type            0\n",
       "Outlet_Type                     0\n",
       "Item_Outlet_Sales            5681\n",
       "dtype: int64"
      ]
     },
     "execution_count": 70,
     "metadata": {},
     "output_type": "execute_result"
    }
   ],
   "source": [
    "data.isnull().sum() "
   ]
  },
  {
   "cell_type": "code",
   "execution_count": 71,
   "metadata": {},
   "outputs": [
    {
     "data": {
      "text/plain": [
       "Item_Identifier              0\n",
       "Item_Weight                  0\n",
       "Item_Fat_Content             0\n",
       "Item_Visibility              0\n",
       "Item_Type                    0\n",
       "Item_MRP                     0\n",
       "Outlet_Identifier            0\n",
       "Outlet_Establishment_Year    0\n",
       "Outlet_Size                  0\n",
       "Outlet_Location_Type         0\n",
       "Outlet_Type                  0\n",
       "Item_Outlet_Sales            0\n",
       "dtype: int64"
      ]
     },
     "execution_count": 71,
     "metadata": {},
     "output_type": "execute_result"
    }
   ],
   "source": [
    "# Imputación o sustitución de datos faltantes.\n",
    "\n",
    "data['Item_Weight'] = data['Item_Weight'].replace(0, np.NaN)\n",
    "data['Item_Weight'].fillna(data['Item_Weight'].mean(), inplace = True)\n",
    "\n",
    "data['Outlet_Size'].fillna(data['Outlet_Size'].mode()[0], inplace = True)\n",
    "\n",
    "data['Item_Outlet_Sales'] = data['Item_Outlet_Sales'].replace(0, np.NaN)\n",
    "data['Item_Outlet_Sales'].fillna(data['Item_Outlet_Sales'].mode()[0], inplace = True)\n",
    "\n",
    "data.isnull().sum()\n",
    "     "
   ]
  },
  {
   "cell_type": "code",
   "execution_count": 72,
   "metadata": {},
   "outputs": [
    {
     "data": {
      "text/plain": [
       "Item_Fat_Content\n",
       "Low Fat    9185\n",
       "Regular    5019\n",
       "Name: count, dtype: int64"
      ]
     },
     "execution_count": 72,
     "metadata": {},
     "output_type": "execute_result"
    }
   ],
   "source": [
    "# Reemplazando nombres de los elementos. \n",
    "\n",
    "\n",
    "data['Item_Fat_Content'] = data['Item_Fat_Content'].replace({'LF': 'Low Fat', 'reg': 'Regular', 'low fat': 'Low Fat'})\n",
    "data['Item_Fat_Content'].value_counts()"
   ]
  },
  {
   "cell_type": "code",
   "execution_count": 73,
   "metadata": {},
   "outputs": [
    {
     "data": {
      "text/plain": [
       "Item_Identifier\n",
       "Food              10201\n",
       "Non_Consumable     2686\n",
       "Drinks             1317\n",
       "Name: count, dtype: int64"
      ]
     },
     "execution_count": 73,
     "metadata": {},
     "output_type": "execute_result"
    }
   ],
   "source": [
    "# Reemplazar las dos primeras letras de cada identificador por el nombre de la categoría\n",
    "\n",
    "data['Item_Identifier'] = data['Item_Identifier'].apply(lambda x: x[0:2])\n",
    "\n",
    "data['Item_Identifier'] = data['Item_Identifier'].map({'FD':'Food', 'NC':'Non_Consumable', 'DR':'Drinks'})\n",
    "\n",
    "data['Item_Identifier'].value_counts()"
   ]
  },
  {
   "cell_type": "code",
   "execution_count": 74,
   "metadata": {},
   "outputs": [
    {
     "data": {
      "text/plain": [
       "Outlet_Years\n",
       "28    2439\n",
       "26    1553\n",
       "14    1550\n",
       "16    1550\n",
       "9     1550\n",
       "11    1548\n",
       "4     1546\n",
       "6     1543\n",
       "15     925\n",
       "Name: count, dtype: int64"
      ]
     },
     "execution_count": 74,
     "metadata": {},
     "output_type": "execute_result"
    }
   ],
   "source": [
    "# Determinar la operación en un periodo de tiempo\n",
    "\n",
    "data['Outlet_Years'] = 2013 - data['Outlet_Establishment_Year']\n",
    "data['Outlet_Years'].value_counts()"
   ]
  },
  {
   "cell_type": "code",
   "execution_count": null,
   "metadata": {},
   "outputs": [],
   "source": [
    "# removing unnecassary columns from the dataset\n",
    "\n",
    "#data = data.drop('Item_Identifier', axis = 1)\n",
    "\n",
    "#print(data.shape)"
   ]
  },
  {
   "cell_type": "code",
   "execution_count": 75,
   "metadata": {},
   "outputs": [
    {
     "data": {
      "text/plain": [
       "Outlet_Type\n",
       "Supermarket Type1    9294\n",
       "Grocery Store        1805\n",
       "Supermarket Type3    1559\n",
       "Supermarket Type2    1546\n",
       "Name: count, dtype: int64"
      ]
     },
     "execution_count": 75,
     "metadata": {},
     "output_type": "execute_result"
    }
   ],
   "source": [
    "data['Outlet_Type'].value_counts()"
   ]
  },
  {
   "cell_type": "code",
   "execution_count": 79,
   "metadata": {},
   "outputs": [
    {
     "data": {
      "text/html": [
       "<div>\n",
       "<style scoped>\n",
       "    .dataframe tbody tr th:only-of-type {\n",
       "        vertical-align: middle;\n",
       "    }\n",
       "\n",
       "    .dataframe tbody tr th {\n",
       "        vertical-align: top;\n",
       "    }\n",
       "\n",
       "    .dataframe thead th {\n",
       "        text-align: right;\n",
       "    }\n",
       "</style>\n",
       "<table border=\"1\" class=\"dataframe\">\n",
       "  <thead>\n",
       "    <tr style=\"text-align: right;\">\n",
       "      <th></th>\n",
       "      <th>Item_Identifier</th>\n",
       "      <th>Item_Weight</th>\n",
       "      <th>Item_Fat_Content</th>\n",
       "      <th>Item_Visibility</th>\n",
       "      <th>Item_Type</th>\n",
       "      <th>Item_MRP</th>\n",
       "      <th>Outlet_Identifier</th>\n",
       "      <th>Outlet_Establishment_Year</th>\n",
       "      <th>Outlet_Size</th>\n",
       "      <th>Outlet_Location_Type</th>\n",
       "      <th>Outlet_Type</th>\n",
       "      <th>Item_Outlet_Sales</th>\n",
       "      <th>Outlet_Years</th>\n",
       "    </tr>\n",
       "  </thead>\n",
       "  <tbody>\n",
       "    <tr>\n",
       "      <th>0</th>\n",
       "      <td>1</td>\n",
       "      <td>284</td>\n",
       "      <td>0</td>\n",
       "      <td>1097</td>\n",
       "      <td>4</td>\n",
       "      <td>7567</td>\n",
       "      <td>9</td>\n",
       "      <td>4</td>\n",
       "      <td>1</td>\n",
       "      <td>0</td>\n",
       "      <td>1</td>\n",
       "      <td>2540</td>\n",
       "      <td>4</td>\n",
       "    </tr>\n",
       "    <tr>\n",
       "      <th>1</th>\n",
       "      <td>0</td>\n",
       "      <td>57</td>\n",
       "      <td>1</td>\n",
       "      <td>1436</td>\n",
       "      <td>14</td>\n",
       "      <td>632</td>\n",
       "      <td>3</td>\n",
       "      <td>8</td>\n",
       "      <td>1</td>\n",
       "      <td>2</td>\n",
       "      <td>2</td>\n",
       "      <td>422</td>\n",
       "      <td>0</td>\n",
       "    </tr>\n",
       "    <tr>\n",
       "      <th>2</th>\n",
       "      <td>1</td>\n",
       "      <td>376</td>\n",
       "      <td>0</td>\n",
       "      <td>1172</td>\n",
       "      <td>10</td>\n",
       "      <td>3897</td>\n",
       "      <td>9</td>\n",
       "      <td>4</td>\n",
       "      <td>1</td>\n",
       "      <td>0</td>\n",
       "      <td>1</td>\n",
       "      <td>1639</td>\n",
       "      <td>4</td>\n",
       "    </tr>\n",
       "    <tr>\n",
       "      <th>3</th>\n",
       "      <td>1</td>\n",
       "      <td>393</td>\n",
       "      <td>1</td>\n",
       "      <td>0</td>\n",
       "      <td>6</td>\n",
       "      <td>5626</td>\n",
       "      <td>0</td>\n",
       "      <td>3</td>\n",
       "      <td>1</td>\n",
       "      <td>2</td>\n",
       "      <td>0</td>\n",
       "      <td>670</td>\n",
       "      <td>5</td>\n",
       "    </tr>\n",
       "    <tr>\n",
       "      <th>4</th>\n",
       "      <td>2</td>\n",
       "      <td>265</td>\n",
       "      <td>0</td>\n",
       "      <td>0</td>\n",
       "      <td>9</td>\n",
       "      <td>848</td>\n",
       "      <td>1</td>\n",
       "      <td>1</td>\n",
       "      <td>0</td>\n",
       "      <td>2</td>\n",
       "      <td>1</td>\n",
       "      <td>865</td>\n",
       "      <td>7</td>\n",
       "    </tr>\n",
       "    <tr>\n",
       "      <th>...</th>\n",
       "      <td>...</td>\n",
       "      <td>...</td>\n",
       "      <td>...</td>\n",
       "      <td>...</td>\n",
       "      <td>...</td>\n",
       "      <td>...</td>\n",
       "      <td>...</td>\n",
       "      <td>...</td>\n",
       "      <td>...</td>\n",
       "      <td>...</td>\n",
       "      <td>...</td>\n",
       "      <td>...</td>\n",
       "      <td>...</td>\n",
       "    </tr>\n",
       "    <tr>\n",
       "      <th>5676</th>\n",
       "      <td>1</td>\n",
       "      <td>298</td>\n",
       "      <td>1</td>\n",
       "      <td>718</td>\n",
       "      <td>13</td>\n",
       "      <td>3881</td>\n",
       "      <td>8</td>\n",
       "      <td>2</td>\n",
       "      <td>2</td>\n",
       "      <td>0</td>\n",
       "      <td>1</td>\n",
       "      <td>835</td>\n",
       "      <td>6</td>\n",
       "    </tr>\n",
       "    <tr>\n",
       "      <th>5677</th>\n",
       "      <td>1</td>\n",
       "      <td>180</td>\n",
       "      <td>1</td>\n",
       "      <td>11820</td>\n",
       "      <td>15</td>\n",
       "      <td>5069</td>\n",
       "      <td>3</td>\n",
       "      <td>8</td>\n",
       "      <td>1</td>\n",
       "      <td>2</td>\n",
       "      <td>2</td>\n",
       "      <td>835</td>\n",
       "      <td>0</td>\n",
       "    </tr>\n",
       "    <tr>\n",
       "      <th>5678</th>\n",
       "      <td>2</td>\n",
       "      <td>293</td>\n",
       "      <td>0</td>\n",
       "      <td>8009</td>\n",
       "      <td>8</td>\n",
       "      <td>3196</td>\n",
       "      <td>7</td>\n",
       "      <td>5</td>\n",
       "      <td>1</td>\n",
       "      <td>1</td>\n",
       "      <td>1</td>\n",
       "      <td>835</td>\n",
       "      <td>3</td>\n",
       "    </tr>\n",
       "    <tr>\n",
       "      <th>5679</th>\n",
       "      <td>1</td>\n",
       "      <td>354</td>\n",
       "      <td>1</td>\n",
       "      <td>0</td>\n",
       "      <td>3</td>\n",
       "      <td>6626</td>\n",
       "      <td>2</td>\n",
       "      <td>7</td>\n",
       "      <td>1</td>\n",
       "      <td>1</td>\n",
       "      <td>1</td>\n",
       "      <td>835</td>\n",
       "      <td>1</td>\n",
       "    </tr>\n",
       "    <tr>\n",
       "      <th>5680</th>\n",
       "      <td>1</td>\n",
       "      <td>288</td>\n",
       "      <td>1</td>\n",
       "      <td>10187</td>\n",
       "      <td>3</td>\n",
       "      <td>1523</td>\n",
       "      <td>7</td>\n",
       "      <td>5</td>\n",
       "      <td>1</td>\n",
       "      <td>1</td>\n",
       "      <td>1</td>\n",
       "      <td>835</td>\n",
       "      <td>3</td>\n",
       "    </tr>\n",
       "  </tbody>\n",
       "</table>\n",
       "<p>14204 rows × 13 columns</p>\n",
       "</div>"
      ],
      "text/plain": [
       "      Item_Identifier  Item_Weight  Item_Fat_Content  Item_Visibility  \\\n",
       "0                   1          284                 0             1097   \n",
       "1                   0           57                 1             1436   \n",
       "2                   1          376                 0             1172   \n",
       "3                   1          393                 1                0   \n",
       "4                   2          265                 0                0   \n",
       "...               ...          ...               ...              ...   \n",
       "5676                1          298                 1              718   \n",
       "5677                1          180                 1            11820   \n",
       "5678                2          293                 0             8009   \n",
       "5679                1          354                 1                0   \n",
       "5680                1          288                 1            10187   \n",
       "\n",
       "      Item_Type  Item_MRP  Outlet_Identifier  Outlet_Establishment_Year  \\\n",
       "0             4      7567                  9                          4   \n",
       "1            14       632                  3                          8   \n",
       "2            10      3897                  9                          4   \n",
       "3             6      5626                  0                          3   \n",
       "4             9       848                  1                          1   \n",
       "...         ...       ...                ...                        ...   \n",
       "5676         13      3881                  8                          2   \n",
       "5677         15      5069                  3                          8   \n",
       "5678          8      3196                  7                          5   \n",
       "5679          3      6626                  2                          7   \n",
       "5680          3      1523                  7                          5   \n",
       "\n",
       "      Outlet_Size  Outlet_Location_Type  Outlet_Type  Item_Outlet_Sales  \\\n",
       "0               1                     0            1               2540   \n",
       "1               1                     2            2                422   \n",
       "2               1                     0            1               1639   \n",
       "3               1                     2            0                670   \n",
       "4               0                     2            1                865   \n",
       "...           ...                   ...          ...                ...   \n",
       "5676            2                     0            1                835   \n",
       "5677            1                     2            2                835   \n",
       "5678            1                     1            1                835   \n",
       "5679            1                     1            1                835   \n",
       "5680            1                     1            1                835   \n",
       "\n",
       "      Outlet_Years  \n",
       "0                4  \n",
       "1                0  \n",
       "2                4  \n",
       "3                5  \n",
       "4                7  \n",
       "...            ...  \n",
       "5676             6  \n",
       "5677             0  \n",
       "5678             3  \n",
       "5679             1  \n",
       "5680             3  \n",
       "\n",
       "[14204 rows x 13 columns]"
      ]
     },
     "execution_count": 79,
     "metadata": {},
     "output_type": "execute_result"
    }
   ],
   "source": [
    "# Label encoding\n",
    "\n",
    "from sklearn.preprocessing  import LabelEncoder\n",
    "\n",
    "data.apply(LabelEncoder().fit_transform)"
   ]
  },
  {
   "cell_type": "code",
   "execution_count": 80,
   "metadata": {},
   "outputs": [
    {
     "name": "stdout",
     "output_type": "stream",
     "text": [
      "(14204, 47)\n"
     ]
    }
   ],
   "source": [
    "# One Hot Encoding\n",
    "\n",
    "data = pd.get_dummies(data)\n",
    "\n",
    "print(data.shape)"
   ]
  },
  {
   "cell_type": "code",
   "execution_count": 81,
   "metadata": {},
   "outputs": [
    {
     "name": "stdout",
     "output_type": "stream",
     "text": [
      "(14204, 46)\n",
      "(14204,)\n"
     ]
    }
   ],
   "source": [
    "# Dividir los datos en variables dependientes e independientes\n",
    "\n",
    "x = data.drop('Item_Outlet_Sales', axis = 1)\n",
    "y = data.Item_Outlet_Sales\n",
    "\n",
    "print(x.shape)\n",
    "print(y.shape)\n",
    "     "
   ]
  },
  {
   "cell_type": "code",
   "execution_count": 82,
   "metadata": {},
   "outputs": [
    {
     "name": "stdout",
     "output_type": "stream",
     "text": [
      "(8523, 47)\n",
      "(5681, 47)\n"
     ]
    }
   ],
   "source": [
    "# Dividir el conjunto de datos unificado en entrenamiento y prueba\n",
    "\n",
    "train = data.iloc[:8523,:]\n",
    "test = data.iloc[8523:,:]\n",
    "\n",
    "print(train.shape)\n",
    "print(test.shape)"
   ]
  },
  {
   "cell_type": "code",
   "execution_count": 83,
   "metadata": {},
   "outputs": [
    {
     "name": "stdout",
     "output_type": "stream",
     "text": [
      "(9942, 46)\n",
      "(9942,)\n",
      "(4262, 46)\n",
      "(4262,)\n"
     ]
    }
   ],
   "source": [
    "# x_train, x_test, y_train, y_test\n",
    "\n",
    "from sklearn.model_selection import train_test_split\n",
    "\n",
    "x_train, x_test, y_train, y_test = train_test_split(x, y, test_size = 0.3)\n",
    "\n",
    "print(x_train.shape)\n",
    "print(y_train.shape)\n",
    "print(x_test.shape)\n",
    "print(y_test.shape)\n"
   ]
  },
  {
   "cell_type": "markdown",
   "metadata": {},
   "source": [
    "# Modelamiento"
   ]
  },
  {
   "cell_type": "code",
   "execution_count": 89,
   "metadata": {},
   "outputs": [
    {
     "name": "stdout",
     "output_type": "stream",
     "text": [
      "Fitting 5 folds for each of 5 candidates, totalling 25 fits\n",
      "[CV] END .......................................alpha=0.0001; total time=   0.0s\n",
      "[CV] END .......................................alpha=0.0001; total time=   0.0s\n",
      "[CV] END .......................................alpha=0.0001; total time=   0.0s\n",
      "[CV] END .......................................alpha=0.0001; total time=   0.0s\n",
      "[CV] END .......................................alpha=0.0001; total time=   0.0s\n",
      "[CV] END ........................................alpha=0.001; total time=   0.0s\n",
      "[CV] END ........................................alpha=0.001; total time=   0.0s\n",
      "[CV] END ........................................alpha=0.001; total time=   0.0s\n",
      "[CV] END ........................................alpha=0.001; total time=   0.0s\n",
      "[CV] END ........................................alpha=0.001; total time=   0.0s\n",
      "[CV] END .........................................alpha=0.01; total time=   0.0s\n",
      "[CV] END .........................................alpha=0.01; total time=   0.0s\n",
      "[CV] END .........................................alpha=0.01; total time=   0.0s\n",
      "[CV] END .........................................alpha=0.01; total time=   0.0s\n",
      "[CV] END .........................................alpha=0.01; total time=   0.0s\n",
      "[CV] END ..........................................alpha=0.1; total time=   0.0s\n",
      "[CV] END ..........................................alpha=0.1; total time=   0.0s\n",
      "[CV] END ..........................................alpha=0.1; total time=   0.0s\n",
      "[CV] END ..........................................alpha=0.1; total time=   0.0s\n",
      "[CV] END ..........................................alpha=0.1; total time=   0.0s\n",
      "[CV] END ..........................................alpha=1.0; total time=   0.0s\n",
      "[CV] END ..........................................alpha=1.0; total time=   0.0s\n",
      "[CV] END ..........................................alpha=1.0; total time=   0.0s\n",
      "[CV] END ..........................................alpha=1.0; total time=   0.0s\n",
      "[CV] END ..........................................alpha=1.0; total time=   0.0s\n",
      "Fitting 5 folds for each of 5 candidates, totalling 25 fits\n",
      "[CV] END .......................................alpha=0.0001; total time=   0.9s\n",
      "[CV] END .......................................alpha=0.0001; total time=   2.0s\n",
      "[CV] END .......................................alpha=0.0001; total time=   1.0s\n",
      "[CV] END .......................................alpha=0.0001; total time=   2.0s\n",
      "[CV] END .......................................alpha=0.0001; total time=   1.8s\n",
      "[CV] END ........................................alpha=0.001; total time=   1.6s\n",
      "[CV] END ........................................alpha=0.001; total time=   1.7s\n",
      "[CV] END ........................................alpha=0.001; total time=   1.1s\n",
      "[CV] END ........................................alpha=0.001; total time=   2.2s\n",
      "[CV] END ........................................alpha=0.001; total time=   1.8s\n",
      "[CV] END .........................................alpha=0.01; total time=   1.0s\n",
      "[CV] END .........................................alpha=0.01; total time=   2.1s\n",
      "[CV] END .........................................alpha=0.01; total time=   1.1s\n",
      "[CV] END .........................................alpha=0.01; total time=   1.8s\n",
      "[CV] END .........................................alpha=0.01; total time=   1.3s\n",
      "[CV] END ..........................................alpha=0.1; total time=   1.4s\n",
      "[CV] END ..........................................alpha=0.1; total time=   1.6s\n",
      "[CV] END ..........................................alpha=0.1; total time=   1.0s\n",
      "[CV] END ..........................................alpha=0.1; total time=   2.4s\n",
      "[CV] END ..........................................alpha=0.1; total time=   1.9s\n",
      "[CV] END ..........................................alpha=1.0; total time=   1.3s\n",
      "[CV] END ..........................................alpha=1.0; total time=   1.5s\n",
      "[CV] END ..........................................alpha=1.0; total time=   1.2s\n",
      "[CV] END ..........................................alpha=1.0; total time=   1.3s\n",
      "[CV] END ..........................................alpha=1.0; total time=   1.2s\n",
      "Fitting 5 folds for each of 25 candidates, totalling 125 fits\n",
      "[CV] END ............................alpha=0.0001, power=1.1; total time=   1.3s\n",
      "[CV] END ............................alpha=0.0001, power=1.1; total time=   1.5s\n",
      "[CV] END ............................alpha=0.0001, power=1.1; total time=   1.4s\n",
      "[CV] END ............................alpha=0.0001, power=1.1; total time=   2.1s\n",
      "[CV] END ............................alpha=0.0001, power=1.1; total time=   1.6s\n",
      "[CV] END ............................alpha=0.0001, power=1.3; total time=   1.3s\n",
      "[CV] END ............................alpha=0.0001, power=1.3; total time=   1.8s\n",
      "[CV] END ............................alpha=0.0001, power=1.3; total time=   1.6s\n",
      "[CV] END ............................alpha=0.0001, power=1.3; total time=   2.1s\n",
      "[CV] END ............................alpha=0.0001, power=1.3; total time=   2.0s\n",
      "[CV] END ............................alpha=0.0001, power=1.5; total time=   1.0s\n",
      "[CV] END ............................alpha=0.0001, power=1.5; total time=   1.8s\n",
      "[CV] END ............................alpha=0.0001, power=1.5; total time=   2.1s\n",
      "[CV] END ............................alpha=0.0001, power=1.5; total time=   1.9s\n",
      "[CV] END ............................alpha=0.0001, power=1.5; total time=   2.0s\n",
      "[CV] END ............................alpha=0.0001, power=1.7; total time=   1.1s\n",
      "[CV] END ............................alpha=0.0001, power=1.7; total time=   1.8s\n",
      "[CV] END ............................alpha=0.0001, power=1.7; total time=   1.7s\n",
      "[CV] END ............................alpha=0.0001, power=1.7; total time=   1.9s\n",
      "[CV] END ............................alpha=0.0001, power=1.7; total time=   1.8s\n",
      "[CV] END ............................alpha=0.0001, power=1.9; total time=   1.0s\n",
      "[CV] END ............................alpha=0.0001, power=1.9; total time=   1.2s\n",
      "[CV] END ............................alpha=0.0001, power=1.9; total time=   2.2s\n",
      "[CV] END ............................alpha=0.0001, power=1.9; total time=   2.1s\n",
      "[CV] END ............................alpha=0.0001, power=1.9; total time=   1.6s\n",
      "[CV] END .............................alpha=0.001, power=1.1; total time=   1.2s\n",
      "[CV] END .............................alpha=0.001, power=1.1; total time=   1.2s\n",
      "[CV] END .............................alpha=0.001, power=1.1; total time=   1.1s\n",
      "[CV] END .............................alpha=0.001, power=1.1; total time=   2.1s\n",
      "[CV] END .............................alpha=0.001, power=1.1; total time=   1.5s\n",
      "[CV] END .............................alpha=0.001, power=1.3; total time=   1.0s\n",
      "[CV] END .............................alpha=0.001, power=1.3; total time=   1.5s\n",
      "[CV] END .............................alpha=0.001, power=1.3; total time=   1.3s\n",
      "[CV] END .............................alpha=0.001, power=1.3; total time=   2.2s\n",
      "[CV] END .............................alpha=0.001, power=1.3; total time=   1.9s\n",
      "[CV] END .............................alpha=0.001, power=1.5; total time=   1.2s\n",
      "[CV] END .............................alpha=0.001, power=1.5; total time=   2.0s\n",
      "[CV] END .............................alpha=0.001, power=1.5; total time=   1.2s\n",
      "[CV] END .............................alpha=0.001, power=1.5; total time=   1.8s\n",
      "[CV] END .............................alpha=0.001, power=1.5; total time=   1.8s\n",
      "[CV] END .............................alpha=0.001, power=1.7; total time=   1.3s\n",
      "[CV] END .............................alpha=0.001, power=1.7; total time=   1.9s\n",
      "[CV] END .............................alpha=0.001, power=1.7; total time=   1.9s\n",
      "[CV] END .............................alpha=0.001, power=1.7; total time=   2.2s\n",
      "[CV] END .............................alpha=0.001, power=1.7; total time=   2.1s\n",
      "[CV] END .............................alpha=0.001, power=1.9; total time=   1.0s\n",
      "[CV] END .............................alpha=0.001, power=1.9; total time=   1.4s\n",
      "[CV] END .............................alpha=0.001, power=1.9; total time=   1.5s\n",
      "[CV] END .............................alpha=0.001, power=1.9; total time=   1.5s\n",
      "[CV] END .............................alpha=0.001, power=1.9; total time=   1.6s\n",
      "[CV] END ..............................alpha=0.01, power=1.1; total time=   1.1s\n",
      "[CV] END ..............................alpha=0.01, power=1.1; total time=   1.5s\n",
      "[CV] END ..............................alpha=0.01, power=1.1; total time=   1.2s\n",
      "[CV] END ..............................alpha=0.01, power=1.1; total time=   1.6s\n",
      "[CV] END ..............................alpha=0.01, power=1.1; total time=   1.4s\n",
      "[CV] END ..............................alpha=0.01, power=1.3; total time=   1.1s\n",
      "[CV] END ..............................alpha=0.01, power=1.3; total time=   2.0s\n",
      "[CV] END ..............................alpha=0.01, power=1.3; total time=   1.4s\n",
      "[CV] END ..............................alpha=0.01, power=1.3; total time=   2.5s\n",
      "[CV] END ..............................alpha=0.01, power=1.3; total time=   2.1s\n",
      "[CV] END ..............................alpha=0.01, power=1.5; total time=   1.0s\n",
      "[CV] END ..............................alpha=0.01, power=1.5; total time=   2.0s\n",
      "[CV] END ..............................alpha=0.01, power=1.5; total time=   2.4s\n",
      "[CV] END ..............................alpha=0.01, power=1.5; total time=   2.6s\n",
      "[CV] END ..............................alpha=0.01, power=1.5; total time=   1.4s\n",
      "[CV] END ..............................alpha=0.01, power=1.7; total time=   0.8s\n",
      "[CV] END ..............................alpha=0.01, power=1.7; total time=   1.1s\n",
      "[CV] END ..............................alpha=0.01, power=1.7; total time=   1.5s\n",
      "[CV] END ..............................alpha=0.01, power=1.7; total time=   1.8s\n",
      "[CV] END ..............................alpha=0.01, power=1.7; total time=   1.3s\n",
      "[CV] END ..............................alpha=0.01, power=1.9; total time=   0.9s\n",
      "[CV] END ..............................alpha=0.01, power=1.9; total time=   0.5s\n",
      "[CV] END ..............................alpha=0.01, power=1.9; total time=   1.1s\n",
      "[CV] END ..............................alpha=0.01, power=1.9; total time=   1.1s\n",
      "[CV] END ..............................alpha=0.01, power=1.9; total time=   1.0s\n",
      "[CV] END ...............................alpha=0.1, power=1.1; total time=   0.9s\n",
      "[CV] END ...............................alpha=0.1, power=1.1; total time=   1.8s\n",
      "[CV] END ...............................alpha=0.1, power=1.1; total time=   1.4s\n",
      "[CV] END ...............................alpha=0.1, power=1.1; total time=   1.5s\n",
      "[CV] END ...............................alpha=0.1, power=1.1; total time=   1.5s\n",
      "[CV] END ...............................alpha=0.1, power=1.3; total time=   1.1s\n",
      "[CV] END ...............................alpha=0.1, power=1.3; total time=   2.0s\n",
      "[CV] END ...............................alpha=0.1, power=1.3; total time=   1.5s\n",
      "[CV] END ...............................alpha=0.1, power=1.3; total time=   2.3s\n",
      "[CV] END ...............................alpha=0.1, power=1.3; total time=   1.9s\n",
      "[CV] END ...............................alpha=0.1, power=1.5; total time=   1.0s\n",
      "[CV] END ...............................alpha=0.1, power=1.5; total time=   1.1s\n",
      "[CV] END ...............................alpha=0.1, power=1.5; total time=   1.0s\n",
      "[CV] END ...............................alpha=0.1, power=1.5; total time=   1.6s\n",
      "[CV] END ...............................alpha=0.1, power=1.5; total time=   1.0s\n",
      "[CV] END ...............................alpha=0.1, power=1.7; total time=   0.6s\n",
      "[CV] END ...............................alpha=0.1, power=1.7; total time=   0.7s\n",
      "[CV] END ...............................alpha=0.1, power=1.7; total time=   0.8s\n",
      "[CV] END ...............................alpha=0.1, power=1.7; total time=   0.8s\n",
      "[CV] END ...............................alpha=0.1, power=1.7; total time=   0.9s\n",
      "[CV] END ...............................alpha=0.1, power=1.9; total time=   0.1s\n",
      "[CV] END ...............................alpha=0.1, power=1.9; total time=   0.3s\n",
      "[CV] END ...............................alpha=0.1, power=1.9; total time=   0.3s\n",
      "[CV] END ...............................alpha=0.1, power=1.9; total time=   0.2s\n",
      "[CV] END ...............................alpha=0.1, power=1.9; total time=   0.4s\n",
      "[CV] END ...............................alpha=1.0, power=1.1; total time=   1.0s\n",
      "[CV] END ...............................alpha=1.0, power=1.1; total time=   1.7s\n",
      "[CV] END ...............................alpha=1.0, power=1.1; total time=   1.0s\n",
      "[CV] END ...............................alpha=1.0, power=1.1; total time=   1.8s\n",
      "[CV] END ...............................alpha=1.0, power=1.1; total time=   1.4s\n",
      "[CV] END ...............................alpha=1.0, power=1.3; total time=   0.9s\n",
      "[CV] END ...............................alpha=1.0, power=1.3; total time=   0.9s\n",
      "[CV] END ...............................alpha=1.0, power=1.3; total time=   1.0s\n",
      "[CV] END ...............................alpha=1.0, power=1.3; total time=   1.1s\n",
      "[CV] END ...............................alpha=1.0, power=1.3; total time=   1.3s\n",
      "[CV] END ...............................alpha=1.0, power=1.5; total time=   0.3s\n",
      "[CV] END ...............................alpha=1.0, power=1.5; total time=   0.5s\n",
      "[CV] END ...............................alpha=1.0, power=1.5; total time=   0.6s\n",
      "[CV] END ...............................alpha=1.0, power=1.5; total time=   0.7s\n",
      "[CV] END ...............................alpha=1.0, power=1.5; total time=   0.4s\n",
      "[CV] END ...............................alpha=1.0, power=1.7; total time=   0.2s\n",
      "[CV] END ...............................alpha=1.0, power=1.7; total time=   0.3s\n",
      "[CV] END ...............................alpha=1.0, power=1.7; total time=   0.2s\n",
      "[CV] END ...............................alpha=1.0, power=1.7; total time=   0.2s\n",
      "[CV] END ...............................alpha=1.0, power=1.7; total time=   0.1s\n",
      "[CV] END ...............................alpha=1.0, power=1.9; total time=   0.0s\n",
      "[CV] END ...............................alpha=1.0, power=1.9; total time=   0.0s\n",
      "[CV] END ...............................alpha=1.0, power=1.9; total time=   0.0s\n",
      "[CV] END ...............................alpha=1.0, power=1.9; total time=   0.0s\n",
      "[CV] END ...............................alpha=1.0, power=1.9; total time=   0.0s\n"
     ]
    }
   ],
   "source": [
    "#GLM\n",
    "from sklearn.model_selection import GridSearchCV\n",
    "from sklearn.metrics import mean_squared_error, mean_absolute_error, r2_score\n",
    "from sklearn.linear_model import Ridge, PoissonRegressor, TweedieRegressor\n",
    "\n",
    "parameters = {'GLM: Linear': {'alpha': 10 ** np.arange(-4., 1.)},\n",
    "              'GLM: Poisson': {'alpha': 10 ** np.arange(-4., 1.)},\n",
    "              'GLM: Tweedie': {'alpha': 10 ** np.arange(-4., 1.), \n",
    "                               'power': np.linspace(1.1, 1.9, num=5)}}\n",
    "\n",
    "glms = {'GLM: Linear': Ridge(),\n",
    "        'GLM: Poisson': PoissonRegressor(max_iter=20000), \n",
    "        'GLM: Tweedie': TweedieRegressor(max_iter=20000)}\n",
    "\n",
    "best_glms = {}\n",
    "results = pd.DataFrame()\n",
    "\n",
    "for glm_type, glm in glms.items():\n",
    "    param_tuner = GridSearchCV(glm, parameters[glm_type], cv=5, refit=True, verbose=2)\n",
    "    param_tuner.fit(x_train, y_train)\n",
    "    \n",
    "    best_glms[glm_type] = param_tuner.best_estimator_\n",
    "    ypred_trn = best_glms[glm_type].predict(x_train)\n",
    "    ypred_tst = best_glms[glm_type].predict(x_test)\n",
    "    \n",
    "    res = {'Method': glm_type, \n",
    "            'Train MSE': mean_squared_error(y_train, ypred_trn),\n",
    "            'Train MAE': mean_absolute_error(y_train, ypred_trn), \n",
    "            'Train R2': r2_score(y_train, ypred_trn), \n",
    "            'Test MSE': mean_squared_error(y_test, ypred_tst),\n",
    "            'Test MAE': mean_absolute_error(y_test, ypred_tst),\n",
    "            'Test R2': r2_score(y_test, ypred_tst)}\n",
    "    \n",
    "    results = pd.concat([results, pd.DataFrame([res])], ignore_index=True)"
   ]
  },
  {
   "cell_type": "code",
   "execution_count": 90,
   "metadata": {},
   "outputs": [
    {
     "data": {
      "text/html": [
       "<div>\n",
       "<style scoped>\n",
       "    .dataframe tbody tr th:only-of-type {\n",
       "        vertical-align: middle;\n",
       "    }\n",
       "\n",
       "    .dataframe tbody tr th {\n",
       "        vertical-align: top;\n",
       "    }\n",
       "\n",
       "    .dataframe thead th {\n",
       "        text-align: right;\n",
       "    }\n",
       "</style>\n",
       "<table border=\"1\" class=\"dataframe\">\n",
       "  <thead>\n",
       "    <tr style=\"text-align: right;\">\n",
       "      <th></th>\n",
       "      <th>Method</th>\n",
       "      <th>Train MSE</th>\n",
       "      <th>Train MAE</th>\n",
       "      <th>Train R2</th>\n",
       "      <th>Test MSE</th>\n",
       "      <th>Test MAE</th>\n",
       "      <th>Test R2</th>\n",
       "    </tr>\n",
       "  </thead>\n",
       "  <tbody>\n",
       "    <tr>\n",
       "      <th>0</th>\n",
       "      <td>GLM: Linear</td>\n",
       "      <td>1.512988e+06</td>\n",
       "      <td>896.776062</td>\n",
       "      <td>0.281904</td>\n",
       "      <td>1.516403e+06</td>\n",
       "      <td>895.447849</td>\n",
       "      <td>0.278937</td>\n",
       "    </tr>\n",
       "    <tr>\n",
       "      <th>1</th>\n",
       "      <td>GLM: Poisson</td>\n",
       "      <td>1.488358e+06</td>\n",
       "      <td>870.785005</td>\n",
       "      <td>0.293594</td>\n",
       "      <td>1.486886e+06</td>\n",
       "      <td>866.436423</td>\n",
       "      <td>0.292972</td>\n",
       "    </tr>\n",
       "    <tr>\n",
       "      <th>2</th>\n",
       "      <td>GLM: Tweedie</td>\n",
       "      <td>1.492774e+06</td>\n",
       "      <td>870.032458</td>\n",
       "      <td>0.291498</td>\n",
       "      <td>1.492546e+06</td>\n",
       "      <td>866.454481</td>\n",
       "      <td>0.290281</td>\n",
       "    </tr>\n",
       "  </tbody>\n",
       "</table>\n",
       "</div>"
      ],
      "text/plain": [
       "         Method     Train MSE   Train MAE  Train R2      Test MSE    Test MAE  \\\n",
       "0   GLM: Linear  1.512988e+06  896.776062  0.281904  1.516403e+06  895.447849   \n",
       "1  GLM: Poisson  1.488358e+06  870.785005  0.293594  1.486886e+06  866.436423   \n",
       "2  GLM: Tweedie  1.492774e+06  870.032458  0.291498  1.492546e+06  866.454481   \n",
       "\n",
       "    Test R2  \n",
       "0  0.278937  \n",
       "1  0.292972  \n",
       "2  0.290281  "
      ]
     },
     "execution_count": 90,
     "metadata": {},
     "output_type": "execute_result"
    }
   ],
   "source": [
    "results"
   ]
  },
  {
   "cell_type": "code",
   "execution_count": 91,
   "metadata": {},
   "outputs": [],
   "source": [
    "from sklearn.neural_network import MLPRegressor\n",
    "from sklearn.ensemble import StackingRegressor\n",
    "\n",
    "base_estimators = list(best_glms.items())\n",
    "meta_learner = MLPRegressor(hidden_layer_sizes=(25, 25, 25), max_iter=1000, activation='relu')\n",
    "stack = StackingRegressor(base_estimators, final_estimator=meta_learner)\n",
    "stack.fit(x_train, y_train)\n",
    "\n",
    "ypred_trn = stack.predict(x_train)\n",
    "ypred_tst = stack.predict(x_test)\n",
    "    \n",
    "res = {'Method': 'GLM Stack', \n",
    "        'Train MSE': mean_squared_error(y_train, ypred_trn),\n",
    "        'Train MAE': mean_absolute_error(y_train, ypred_trn), \n",
    "        'Train R2': r2_score(y_train, ypred_trn), \n",
    "        'Test MSE': mean_squared_error(y_test, ypred_tst),\n",
    "        'Test MAE': mean_absolute_error(y_test, ypred_tst),\n",
    "        'Test R2': r2_score(y_test, ypred_tst)}\n",
    "\n",
    "results = pd.concat([results, pd.DataFrame([res])], ignore_index=True)"
   ]
  },
  {
   "cell_type": "code",
   "execution_count": 92,
   "metadata": {},
   "outputs": [
    {
     "data": {
      "text/html": [
       "<div>\n",
       "<style scoped>\n",
       "    .dataframe tbody tr th:only-of-type {\n",
       "        vertical-align: middle;\n",
       "    }\n",
       "\n",
       "    .dataframe tbody tr th {\n",
       "        vertical-align: top;\n",
       "    }\n",
       "\n",
       "    .dataframe thead th {\n",
       "        text-align: right;\n",
       "    }\n",
       "</style>\n",
       "<table border=\"1\" class=\"dataframe\">\n",
       "  <thead>\n",
       "    <tr style=\"text-align: right;\">\n",
       "      <th></th>\n",
       "      <th>Method</th>\n",
       "      <th>Train MSE</th>\n",
       "      <th>Train MAE</th>\n",
       "      <th>Train R2</th>\n",
       "      <th>Test MSE</th>\n",
       "      <th>Test MAE</th>\n",
       "      <th>Test R2</th>\n",
       "    </tr>\n",
       "  </thead>\n",
       "  <tbody>\n",
       "    <tr>\n",
       "      <th>0</th>\n",
       "      <td>GLM: Linear</td>\n",
       "      <td>1.512988e+06</td>\n",
       "      <td>896.776062</td>\n",
       "      <td>0.281904</td>\n",
       "      <td>1.516403e+06</td>\n",
       "      <td>895.447849</td>\n",
       "      <td>0.278937</td>\n",
       "    </tr>\n",
       "    <tr>\n",
       "      <th>1</th>\n",
       "      <td>GLM: Poisson</td>\n",
       "      <td>1.488358e+06</td>\n",
       "      <td>870.785005</td>\n",
       "      <td>0.293594</td>\n",
       "      <td>1.486886e+06</td>\n",
       "      <td>866.436423</td>\n",
       "      <td>0.292972</td>\n",
       "    </tr>\n",
       "    <tr>\n",
       "      <th>2</th>\n",
       "      <td>GLM: Tweedie</td>\n",
       "      <td>1.492774e+06</td>\n",
       "      <td>870.032458</td>\n",
       "      <td>0.291498</td>\n",
       "      <td>1.492546e+06</td>\n",
       "      <td>866.454481</td>\n",
       "      <td>0.290281</td>\n",
       "    </tr>\n",
       "    <tr>\n",
       "      <th>3</th>\n",
       "      <td>GLM Stack</td>\n",
       "      <td>1.486720e+06</td>\n",
       "      <td>877.823206</td>\n",
       "      <td>0.294371</td>\n",
       "      <td>1.488022e+06</td>\n",
       "      <td>875.335070</td>\n",
       "      <td>0.292432</td>\n",
       "    </tr>\n",
       "  </tbody>\n",
       "</table>\n",
       "</div>"
      ],
      "text/plain": [
       "         Method     Train MSE   Train MAE  Train R2      Test MSE    Test MAE  \\\n",
       "0   GLM: Linear  1.512988e+06  896.776062  0.281904  1.516403e+06  895.447849   \n",
       "1  GLM: Poisson  1.488358e+06  870.785005  0.293594  1.486886e+06  866.436423   \n",
       "2  GLM: Tweedie  1.492774e+06  870.032458  0.291498  1.492546e+06  866.454481   \n",
       "3     GLM Stack  1.486720e+06  877.823206  0.294371  1.488022e+06  875.335070   \n",
       "\n",
       "    Test R2  \n",
       "0  0.278937  \n",
       "1  0.292972  \n",
       "2  0.290281  \n",
       "3  0.292432  "
      ]
     },
     "execution_count": 92,
     "metadata": {},
     "output_type": "execute_result"
    }
   ],
   "source": [
    "results"
   ]
  },
  {
   "cell_type": "code",
   "execution_count": null,
   "metadata": {},
   "outputs": [],
   "source": [
    "from sklearn.ensemble import RandomForestRegressor\n",
    "from sklearn.ensemble import ExtraTreesRegressor\n",
    "\n",
    "parameters = {'n_estimators': np.arange(200, 600, step=100), \n",
    "              'max_depth': np.arange(4, 7, step=1)}\n",
    "\n",
    "print(parameters)\n",
    "ensembles = {'RF: Squared Error': RandomForestRegressor(criterion='squared_error'),\n",
    "             'RF: Poisson': RandomForestRegressor(criterion='poisson'),\n",
    "             'XT: Squared Error': ExtraTreesRegressor(criterion='squared_error'), \n",
    "             'XT: Poisson': ExtraTreesRegressor(criterion='poisson')}\n",
    "             \n",
    "for ens_type, ensemble in ensembles.items():\n",
    "    param_tuner = GridSearchCV(ensemble, parameters, cv=5, refit=True, verbose=2)\n",
    "    param_tuner.fit(x_train, y_train)\n",
    "        \n",
    "    ypred_trn = param_tuner.best_estimator_.predict(x_train)\n",
    "    ypred_tst = param_tuner.best_estimator_.predict(x_test)\n",
    "    \n",
    "    res = {'Method': ens_type, \n",
    "            'Train MSE': mean_squared_error(y_train, ypred_trn),\n",
    "            'Train MAE': mean_absolute_error(y_train, ypred_trn), \n",
    "            'Train R2': r2_score(ytrn, ypred_trn), \n",
    "            'Test MSE': mean_squared_error(ytst, ypred_tst),\n",
    "            'Test MAE': mean_absolute_error(ytst, ypred_tst),\n",
    "            'Test R2': r2_score(ytst, ypred_tst)}\n",
    "    \n",
    "    results = pd.concat([results, pd.DataFrame([res])], ignore_index=True)"
   ]
  }
 ],
 "metadata": {
  "kernelspec": {
   "display_name": "Python 3",
   "language": "python",
   "name": "python3"
  },
  "language_info": {
   "codemirror_mode": {
    "name": "ipython",
    "version": 3
   },
   "file_extension": ".py",
   "mimetype": "text/x-python",
   "name": "python",
   "nbconvert_exporter": "python",
   "pygments_lexer": "ipython3",
   "version": "3.11.5"
  },
  "orig_nbformat": 4
 },
 "nbformat": 4,
 "nbformat_minor": 2
}
